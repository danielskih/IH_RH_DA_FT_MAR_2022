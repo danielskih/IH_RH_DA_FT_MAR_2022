{
 "cells": [
  {
   "cell_type": "code",
   "execution_count": 341,
   "id": "7123bc29",
   "metadata": {},
   "outputs": [],
   "source": [
    "import pandas as pd\n",
    "import numpy as np\n",
    "import random"
   ]
  },
  {
   "cell_type": "code",
   "execution_count": 156,
   "id": "51281557",
   "metadata": {},
   "outputs": [],
   "source": [
    "data1 = pd.read_csv( 'data/Data_Marketing_Customer_Analysis_Round2.csv')"
   ]
  },
  {
   "cell_type": "code",
   "execution_count": 157,
   "id": "1eb7d098",
   "metadata": {},
   "outputs": [],
   "source": [
    "data2 = pd.read_csv( 'data/file1.csv')"
   ]
  },
  {
   "cell_type": "code",
   "execution_count": 158,
   "id": "52671033",
   "metadata": {},
   "outputs": [],
   "source": [
    "data3 = pd.read_csv( 'data/file2.csv')"
   ]
  },
  {
   "cell_type": "code",
   "execution_count": 159,
   "id": "6454c5a5",
   "metadata": {},
   "outputs": [],
   "source": [
    "data4 = pd.read_csv( 'data/file3.csv')"
   ]
  },
  {
   "cell_type": "code",
   "execution_count": 160,
   "id": "a8e21ecc",
   "metadata": {},
   "outputs": [],
   "source": [
    "data3 = data3[list(data2.columns)]"
   ]
  },
  {
   "cell_type": "code",
   "execution_count": 161,
   "id": "1327d9a7",
   "metadata": {},
   "outputs": [],
   "source": [
    "data4 = data4[['Customer', 'State', 'Gender', 'Education', 'Customer Lifetime Value', 'Income', 'Monthly Premium Auto', 'Number of Open Complaints', 'Policy Type', 'Vehicle Class', 'Total Claim Amount']]"
   ]
  },
  {
   "cell_type": "code",
   "execution_count": 162,
   "id": "a26ec505",
   "metadata": {},
   "outputs": [
    {
     "data": {
      "text/plain": [
       "True"
      ]
     },
     "execution_count": 162,
     "metadata": {},
     "output_type": "execute_result"
    }
   ],
   "source": [
    "set(data4.columns).issubset(set(data1.columns))"
   ]
  },
  {
   "cell_type": "code",
   "execution_count": 163,
   "id": "9daa818f",
   "metadata": {},
   "outputs": [],
   "source": [
    "cols_to_remove = list(set(data1.columns).difference(data4.columns))"
   ]
  },
  {
   "cell_type": "code",
   "execution_count": 164,
   "id": "60d51cba",
   "metadata": {},
   "outputs": [],
   "source": [
    "data1 = data1[\n",
    "    ['Customer',\n",
    " 'State',\n",
    " 'Gender',\n",
    " 'Education',\n",
    " 'Customer Lifetime Value',\n",
    " 'Income',\n",
    " 'Monthly Premium Auto',\n",
    " 'Number of Open Complaints',\n",
    " 'Policy Type',\n",
    " 'Vehicle Class',\n",
    " 'Total Claim Amount']\n",
    "]"
   ]
  },
  {
   "cell_type": "code",
   "execution_count": 165,
   "id": "1762f02f",
   "metadata": {},
   "outputs": [],
   "source": [
    "data4.rename({'State': \"ST\", 'Gender':'GENDER'}, axis = 1, inplace = True)"
   ]
  },
  {
   "cell_type": "code",
   "execution_count": 166,
   "id": "0bd6467a",
   "metadata": {},
   "outputs": [],
   "source": [
    "data1.rename({'State': \"ST\", 'Gender':'GENDER'}, axis = 1, inplace = True)"
   ]
  },
  {
   "cell_type": "code",
   "execution_count": 167,
   "id": "5cc77490",
   "metadata": {},
   "outputs": [],
   "source": [
    "df = pd.concat([data2, data3, data4])"
   ]
  },
  {
   "cell_type": "code",
   "execution_count": 168,
   "id": "f3b86cb9",
   "metadata": {},
   "outputs": [
    {
     "data": {
      "text/html": [
       "<div>\n",
       "<style scoped>\n",
       "    .dataframe tbody tr th:only-of-type {\n",
       "        vertical-align: middle;\n",
       "    }\n",
       "\n",
       "    .dataframe tbody tr th {\n",
       "        vertical-align: top;\n",
       "    }\n",
       "\n",
       "    .dataframe thead th {\n",
       "        text-align: right;\n",
       "    }\n",
       "</style>\n",
       "<table border=\"1\" class=\"dataframe\">\n",
       "  <thead>\n",
       "    <tr style=\"text-align: right;\">\n",
       "      <th></th>\n",
       "      <th>Customer</th>\n",
       "      <th>ST</th>\n",
       "      <th>GENDER</th>\n",
       "      <th>Education</th>\n",
       "      <th>Customer Lifetime Value</th>\n",
       "      <th>Income</th>\n",
       "      <th>Monthly Premium Auto</th>\n",
       "      <th>Number of Open Complaints</th>\n",
       "      <th>Policy Type</th>\n",
       "      <th>Vehicle Class</th>\n",
       "      <th>Total Claim Amount</th>\n",
       "    </tr>\n",
       "  </thead>\n",
       "  <tbody>\n",
       "    <tr>\n",
       "      <th>0</th>\n",
       "      <td>RB50392</td>\n",
       "      <td>Washington</td>\n",
       "      <td>NaN</td>\n",
       "      <td>Master</td>\n",
       "      <td>NaN</td>\n",
       "      <td>0.0</td>\n",
       "      <td>1000.0</td>\n",
       "      <td>1/0/00</td>\n",
       "      <td>Personal Auto</td>\n",
       "      <td>Four-Door Car</td>\n",
       "      <td>2.704934</td>\n",
       "    </tr>\n",
       "    <tr>\n",
       "      <th>1</th>\n",
       "      <td>QZ44356</td>\n",
       "      <td>Arizona</td>\n",
       "      <td>F</td>\n",
       "      <td>Bachelor</td>\n",
       "      <td>697953.59%</td>\n",
       "      <td>0.0</td>\n",
       "      <td>94.0</td>\n",
       "      <td>1/0/00</td>\n",
       "      <td>Personal Auto</td>\n",
       "      <td>Four-Door Car</td>\n",
       "      <td>1131.464935</td>\n",
       "    </tr>\n",
       "  </tbody>\n",
       "</table>\n",
       "</div>"
      ],
      "text/plain": [
       "  Customer          ST GENDER Education Customer Lifetime Value  Income  \\\n",
       "0  RB50392  Washington    NaN    Master                     NaN     0.0   \n",
       "1  QZ44356     Arizona      F  Bachelor              697953.59%     0.0   \n",
       "\n",
       "   Monthly Premium Auto Number of Open Complaints    Policy Type  \\\n",
       "0                1000.0                    1/0/00  Personal Auto   \n",
       "1                  94.0                    1/0/00  Personal Auto   \n",
       "\n",
       "   Vehicle Class  Total Claim Amount  \n",
       "0  Four-Door Car            2.704934  \n",
       "1  Four-Door Car         1131.464935  "
      ]
     },
     "execution_count": 168,
     "metadata": {},
     "output_type": "execute_result"
    }
   ],
   "source": [
    "df.head(2)"
   ]
  },
  {
   "cell_type": "code",
   "execution_count": 169,
   "id": "a1c4814b",
   "metadata": {},
   "outputs": [],
   "source": [
    "def remove_space(string):\n",
    "    return string.replace(' ','_')\n",
    "    "
   ]
  },
  {
   "cell_type": "code",
   "execution_count": 170,
   "id": "bfaa74a4",
   "metadata": {},
   "outputs": [],
   "source": [
    "df.rename({k:remove_space(k.lower()) for k in df.columns}, axis = 1, inplace = True)"
   ]
  },
  {
   "cell_type": "code",
   "execution_count": 171,
   "id": "19726363",
   "metadata": {},
   "outputs": [],
   "source": [
    "df.drop(columns = 'customer', inplace = True)"
   ]
  },
  {
   "cell_type": "code",
   "execution_count": 172,
   "id": "330f19f2",
   "metadata": {},
   "outputs": [],
   "source": [
    "df.rename(columns = {'st':'state'}, inplace = True)"
   ]
  },
  {
   "cell_type": "code",
   "execution_count": 204,
   "id": "7ff92268",
   "metadata": {},
   "outputs": [
    {
     "data": {
      "text/html": [
       "<div>\n",
       "<style scoped>\n",
       "    .dataframe tbody tr th:only-of-type {\n",
       "        vertical-align: middle;\n",
       "    }\n",
       "\n",
       "    .dataframe tbody tr th {\n",
       "        vertical-align: top;\n",
       "    }\n",
       "\n",
       "    .dataframe thead th {\n",
       "        text-align: right;\n",
       "    }\n",
       "</style>\n",
       "<table border=\"1\" class=\"dataframe\">\n",
       "  <thead>\n",
       "    <tr style=\"text-align: right;\">\n",
       "      <th></th>\n",
       "      <th>state</th>\n",
       "      <th>gender</th>\n",
       "      <th>education</th>\n",
       "      <th>customer_lifetime_value</th>\n",
       "      <th>income</th>\n",
       "      <th>monthly_premium_auto</th>\n",
       "      <th>number_of_open_complaints</th>\n",
       "      <th>policy_type</th>\n",
       "      <th>vehicle_class</th>\n",
       "      <th>total_claim_amount</th>\n",
       "    </tr>\n",
       "  </thead>\n",
       "  <tbody>\n",
       "    <tr>\n",
       "      <th>0</th>\n",
       "      <td>east</td>\n",
       "      <td>NaN</td>\n",
       "      <td>Master</td>\n",
       "      <td>NaN</td>\n",
       "      <td>0.0</td>\n",
       "      <td>1000.0</td>\n",
       "      <td>1/0/00</td>\n",
       "      <td>Personal Auto</td>\n",
       "      <td>Four-Door Car</td>\n",
       "      <td>2.704934</td>\n",
       "    </tr>\n",
       "    <tr>\n",
       "      <th>1</th>\n",
       "      <td>central</td>\n",
       "      <td>f</td>\n",
       "      <td>Bachelor</td>\n",
       "      <td>697953.59%</td>\n",
       "      <td>0.0</td>\n",
       "      <td>94.0</td>\n",
       "      <td>1/0/00</td>\n",
       "      <td>Personal Auto</td>\n",
       "      <td>Four-Door Car</td>\n",
       "      <td>1131.464935</td>\n",
       "    </tr>\n",
       "    <tr>\n",
       "      <th>2</th>\n",
       "      <td>central</td>\n",
       "      <td>f</td>\n",
       "      <td>Bachelor</td>\n",
       "      <td>1288743.17%</td>\n",
       "      <td>48767.0</td>\n",
       "      <td>108.0</td>\n",
       "      <td>1/0/00</td>\n",
       "      <td>Personal Auto</td>\n",
       "      <td>Two-Door Car</td>\n",
       "      <td>566.472247</td>\n",
       "    </tr>\n",
       "    <tr>\n",
       "      <th>3</th>\n",
       "      <td>west</td>\n",
       "      <td>m</td>\n",
       "      <td>Bachelor</td>\n",
       "      <td>764586.18%</td>\n",
       "      <td>0.0</td>\n",
       "      <td>106.0</td>\n",
       "      <td>1/0/00</td>\n",
       "      <td>Corporate Auto</td>\n",
       "      <td>SUV</td>\n",
       "      <td>529.881344</td>\n",
       "    </tr>\n",
       "    <tr>\n",
       "      <th>4</th>\n",
       "      <td>east</td>\n",
       "      <td>m</td>\n",
       "      <td>High School or Below</td>\n",
       "      <td>536307.65%</td>\n",
       "      <td>36357.0</td>\n",
       "      <td>68.0</td>\n",
       "      <td>1/0/00</td>\n",
       "      <td>Personal Auto</td>\n",
       "      <td>Four-Door Car</td>\n",
       "      <td>17.269323</td>\n",
       "    </tr>\n",
       "  </tbody>\n",
       "</table>\n",
       "</div>"
      ],
      "text/plain": [
       "     state gender             education customer_lifetime_value   income  \\\n",
       "0     east    NaN                Master                     NaN      0.0   \n",
       "1  central      f              Bachelor              697953.59%      0.0   \n",
       "2  central      f              Bachelor             1288743.17%  48767.0   \n",
       "3     west      m              Bachelor              764586.18%      0.0   \n",
       "4     east      m  High School or Below              536307.65%  36357.0   \n",
       "\n",
       "   monthly_premium_auto number_of_open_complaints     policy_type  \\\n",
       "0                1000.0                    1/0/00   Personal Auto   \n",
       "1                  94.0                    1/0/00   Personal Auto   \n",
       "2                 108.0                    1/0/00   Personal Auto   \n",
       "3                 106.0                    1/0/00  Corporate Auto   \n",
       "4                  68.0                    1/0/00   Personal Auto   \n",
       "\n",
       "   vehicle_class  total_claim_amount  \n",
       "0  Four-Door Car            2.704934  \n",
       "1  Four-Door Car         1131.464935  \n",
       "2   Two-Door Car          566.472247  \n",
       "3            SUV          529.881344  \n",
       "4  Four-Door Car           17.269323  "
      ]
     },
     "execution_count": 204,
     "metadata": {},
     "output_type": "execute_result"
    }
   ],
   "source": [
    "df.head()"
   ]
  },
  {
   "cell_type": "code",
   "execution_count": 117,
   "id": "6d7d565e",
   "metadata": {},
   "outputs": [],
   "source": [
    "double_states = {'AZ' : 'Arizona', 'WA' : 'Washington', 'Cali' : 'California'}"
   ]
  },
  {
   "cell_type": "code",
   "execution_count": 184,
   "id": "900d46cf",
   "metadata": {
    "scrolled": true
   },
   "outputs": [],
   "source": [
    "def replace_lable(dictionary, column):\n",
    "    for i,k in dictionary.items():\n",
    "        df.loc[(df[column] == i), column] = k"
   ]
  },
  {
   "cell_type": "code",
   "execution_count": 196,
   "id": "b376995c",
   "metadata": {},
   "outputs": [],
   "source": [
    "regions = {'Arizona':'central', 'Nevada':'central', \"California\":'west', 'Oregon':'north_west', 'Washington':'east'}"
   ]
  },
  {
   "cell_type": "code",
   "execution_count": 197,
   "id": "fd67e2cb",
   "metadata": {},
   "outputs": [],
   "source": [
    "replace_lable(regions,'state')"
   ]
  },
  {
   "cell_type": "code",
   "execution_count": 201,
   "id": "d77e8402",
   "metadata": {},
   "outputs": [],
   "source": [
    "genders = {'F':'f', 'M':'m', 'Femal':'f', 'Male':'m', 'female':'f'}"
   ]
  },
  {
   "cell_type": "code",
   "execution_count": 202,
   "id": "1fe47eb0",
   "metadata": {},
   "outputs": [],
   "source": [
    "replace_lable(genders, 'gender')"
   ]
  },
  {
   "cell_type": "code",
   "execution_count": 236,
   "id": "9ba05956",
   "metadata": {},
   "outputs": [],
   "source": [
    "df.loc[:,'customer_lifetime_value'] = list(map(lambda x: x.replace('%', ''), df.loc[:,'customer_lifetime_value'].astype(str)))"
   ]
  },
  {
   "cell_type": "code",
   "execution_count": 277,
   "id": "05a91e5c",
   "metadata": {},
   "outputs": [],
   "source": [
    "temp = []\n",
    "for i in list(df.loc[:,'number_of_open_complaints']):\n",
    "    if type(i) == str and len(i) > 1: \n",
    "        i = i[2]\n",
    "    temp.append( i )   "
   ]
  },
  {
   "cell_type": "code",
   "execution_count": 297,
   "id": "efc5a2be",
   "metadata": {},
   "outputs": [],
   "source": [
    "df['education'] = df['education'].str.lower()"
   ]
  },
  {
   "cell_type": "code",
   "execution_count": 302,
   "id": "6d8061bd",
   "metadata": {},
   "outputs": [],
   "source": [
    "df['vehicle_class'] = df['vehicle_class'].str.lower()"
   ]
  },
  {
   "cell_type": "code",
   "execution_count": 303,
   "id": "68a3476c",
   "metadata": {},
   "outputs": [
    {
     "data": {
      "text/plain": [
       "0       four-door car\n",
       "1       four-door car\n",
       "2        two-door car\n",
       "3                 suv\n",
       "4       four-door car\n",
       "            ...      \n",
       "7065    four-door car\n",
       "7066    four-door car\n",
       "7067    four-door car\n",
       "7068    four-door car\n",
       "7069     two-door car\n",
       "Name: vehicle_class, Length: 12074, dtype: object"
      ]
     },
     "execution_count": 303,
     "metadata": {},
     "output_type": "execute_result"
    }
   ],
   "source": [
    "df['vehicle_class'] = list(map(delete_space, df['vehicle_class'])"
   ]
  },
  {
   "cell_type": "code",
   "execution_count": 300,
   "id": "4765eaff",
   "metadata": {},
   "outputs": [],
   "source": [
    "df.rename(columns = {'state':'region'}, inplace = True)"
   ]
  },
  {
   "cell_type": "code",
   "execution_count": 319,
   "id": "2567141c",
   "metadata": {},
   "outputs": [],
   "source": [
    "cars = {'four-door car':'four_door_car', 'two-door car':'two_door_car', 'luxury suv':'luxury_suv', \n",
    "            'sports car':'sports_car', 'luxury car':'luxury_car', 'luxury suv':'luxury_suv'}"
   ]
  },
  {
   "cell_type": "code",
   "execution_count": 320,
   "id": "5925fc76",
   "metadata": {},
   "outputs": [],
   "source": [
    "replace_lable(cars , 'vehicle_class')"
   ]
  },
  {
   "cell_type": "code",
   "execution_count": 323,
   "id": "de60ec70",
   "metadata": {},
   "outputs": [
    {
     "data": {
      "text/plain": [
       "array(['Personal Auto', 'Corporate Auto', 'Special Auto', nan],\n",
       "      dtype=object)"
      ]
     },
     "execution_count": 323,
     "metadata": {},
     "output_type": "execute_result"
    }
   ],
   "source": [
    "df.policy_type.unique()"
   ]
  },
  {
   "cell_type": "code",
   "execution_count": 328,
   "id": "5be368d7",
   "metadata": {},
   "outputs": [],
   "source": [
    "df.policy_type = list(map(lambda x: x.lower().replace(' ','_') if type(x) == str else x, df.policy_type))"
   ]
  },
  {
   "cell_type": "code",
   "execution_count": 330,
   "id": "1010bf88",
   "metadata": {
    "collapsed": true
   },
   "outputs": [
    {
     "data": {
      "text/plain": [
       "0        personal_auto\n",
       "1        personal_auto\n",
       "2        personal_auto\n",
       "3       corporate_auto\n",
       "4        personal_auto\n",
       "             ...      \n",
       "7065     personal_auto\n",
       "7066    corporate_auto\n",
       "7067    corporate_auto\n",
       "7068     personal_auto\n",
       "7069    corporate_auto\n",
       "Name: policy_type, Length: 12074, dtype: object"
      ]
     },
     "execution_count": 330,
     "metadata": {},
     "output_type": "execute_result"
    }
   ],
   "source": [
    "df.policy_type"
   ]
  },
  {
   "cell_type": "code",
   "execution_count": 332,
   "id": "393dd084",
   "metadata": {},
   "outputs": [],
   "source": [
    "df = df.drop_duplicates() "
   ]
  },
  {
   "cell_type": "code",
   "execution_count": 388,
   "id": "d344162f",
   "metadata": {
    "collapsed": true
   },
   "outputs": [
    {
     "data": {
      "text/html": [
       "<div>\n",
       "<style scoped>\n",
       "    .dataframe tbody tr th:only-of-type {\n",
       "        vertical-align: middle;\n",
       "    }\n",
       "\n",
       "    .dataframe tbody tr th {\n",
       "        vertical-align: top;\n",
       "    }\n",
       "\n",
       "    .dataframe thead th {\n",
       "        text-align: right;\n",
       "    }\n",
       "</style>\n",
       "<table border=\"1\" class=\"dataframe\">\n",
       "  <thead>\n",
       "    <tr style=\"text-align: right;\">\n",
       "      <th></th>\n",
       "      <th>region</th>\n",
       "      <th>gender</th>\n",
       "      <th>education</th>\n",
       "      <th>customer_lifetime_value</th>\n",
       "      <th>income</th>\n",
       "      <th>monthly_premium_auto</th>\n",
       "      <th>number_of_open_complaints</th>\n",
       "      <th>policy_type</th>\n",
       "      <th>vehicle_class</th>\n",
       "      <th>total_claim_amount</th>\n",
       "    </tr>\n",
       "  </thead>\n",
       "  <tbody>\n",
       "    <tr>\n",
       "      <th>0</th>\n",
       "      <td>east</td>\n",
       "      <td>NaN</td>\n",
       "      <td>master</td>\n",
       "      <td>185875.60295</td>\n",
       "      <td>50734.094942</td>\n",
       "      <td>1000.0</td>\n",
       "      <td>0</td>\n",
       "      <td>personal_auto</td>\n",
       "      <td>four_door_car</td>\n",
       "      <td>2.704934</td>\n",
       "    </tr>\n",
       "    <tr>\n",
       "      <th>1</th>\n",
       "      <td>central</td>\n",
       "      <td>f</td>\n",
       "      <td>bachelor</td>\n",
       "      <td>697953.59</td>\n",
       "      <td>50734.094942</td>\n",
       "      <td>94.0</td>\n",
       "      <td>0</td>\n",
       "      <td>personal_auto</td>\n",
       "      <td>four_door_car</td>\n",
       "      <td>1131.464935</td>\n",
       "    </tr>\n",
       "    <tr>\n",
       "      <th>2</th>\n",
       "      <td>central</td>\n",
       "      <td>f</td>\n",
       "      <td>bachelor</td>\n",
       "      <td>1288743.17</td>\n",
       "      <td>48767.000000</td>\n",
       "      <td>108.0</td>\n",
       "      <td>0</td>\n",
       "      <td>personal_auto</td>\n",
       "      <td>two_door_car</td>\n",
       "      <td>566.472247</td>\n",
       "    </tr>\n",
       "    <tr>\n",
       "      <th>3</th>\n",
       "      <td>west</td>\n",
       "      <td>m</td>\n",
       "      <td>bachelor</td>\n",
       "      <td>764586.18</td>\n",
       "      <td>50734.094942</td>\n",
       "      <td>106.0</td>\n",
       "      <td>0</td>\n",
       "      <td>corporate_auto</td>\n",
       "      <td>suv</td>\n",
       "      <td>529.881344</td>\n",
       "    </tr>\n",
       "    <tr>\n",
       "      <th>4</th>\n",
       "      <td>east</td>\n",
       "      <td>m</td>\n",
       "      <td>high school or below</td>\n",
       "      <td>536307.65</td>\n",
       "      <td>36357.000000</td>\n",
       "      <td>68.0</td>\n",
       "      <td>0</td>\n",
       "      <td>personal_auto</td>\n",
       "      <td>four_door_car</td>\n",
       "      <td>17.269323</td>\n",
       "    </tr>\n",
       "  </tbody>\n",
       "</table>\n",
       "</div>"
      ],
      "text/plain": [
       "    region gender             education customer_lifetime_value        income  \\\n",
       "0     east    NaN                master            185875.60295  50734.094942   \n",
       "1  central      f              bachelor               697953.59  50734.094942   \n",
       "2  central      f              bachelor              1288743.17  48767.000000   \n",
       "3     west      m              bachelor               764586.18  50734.094942   \n",
       "4     east      m  high school or below               536307.65  36357.000000   \n",
       "\n",
       "   monthly_premium_auto number_of_open_complaints     policy_type  \\\n",
       "0                1000.0                         0   personal_auto   \n",
       "1                  94.0                         0   personal_auto   \n",
       "2                 108.0                         0   personal_auto   \n",
       "3                 106.0                         0  corporate_auto   \n",
       "4                  68.0                         0   personal_auto   \n",
       "\n",
       "   vehicle_class  total_claim_amount  \n",
       "0  four_door_car            2.704934  \n",
       "1  four_door_car         1131.464935  \n",
       "2   two_door_car          566.472247  \n",
       "3            suv          529.881344  \n",
       "4  four_door_car           17.269323  "
      ]
     },
     "execution_count": 388,
     "metadata": {},
     "output_type": "execute_result"
    }
   ],
   "source": [
    "df.head()"
   ]
  },
  {
   "cell_type": "code",
   "execution_count": 415,
   "id": "3085dc82",
   "metadata": {},
   "outputs": [
    {
     "name": "stderr",
     "output_type": "stream",
     "text": [
      "/var/folders/5x/4q4xg64s4d7_cmwlbd7j7q380000gn/T/ipykernel_45997/2402172531.py:1: SettingWithCopyWarning: \n",
      "A value is trying to be set on a copy of a slice from a DataFrame\n",
      "\n",
      "See the caveats in the documentation: https://pandas.pydata.org/pandas-docs/stable/user_guide/indexing.html#returning-a-view-versus-a-copy\n",
      "  df['income'].fillna(df.loc[df['income']!= 0.0, 'income'].mean(), inplace = True)\n"
     ]
    }
   ],
   "source": [
    "df['income'].fillna(df.loc[df['income']!= 0.0, 'income'].mean(), inplace = True)"
   ]
  },
  {
   "cell_type": "code",
   "execution_count": 349,
   "id": "50b232bf",
   "metadata": {},
   "outputs": [],
   "source": [
    "replace_lable({0.0:50734.09494151603}, 'income' )"
   ]
  },
  {
   "cell_type": "code",
   "execution_count": 414,
   "id": "8f9de701",
   "metadata": {},
   "outputs": [
    {
     "name": "stderr",
     "output_type": "stream",
     "text": [
      "/var/folders/5x/4q4xg64s4d7_cmwlbd7j7q380000gn/T/ipykernel_45997/2201632078.py:1: SettingWithCopyWarning: \n",
      "A value is trying to be set on a copy of a slice from a DataFrame\n",
      "\n",
      "See the caveats in the documentation: https://pandas.pydata.org/pandas-docs/stable/user_guide/indexing.html#returning-a-view-versus-a-copy\n",
      "  df.loc[:,'customer_lifetime_value'].fillna(df['customer_lifetime_value'].astype(float).mean(), inplace = True)\n"
     ]
    }
   ],
   "source": [
    "df.loc[:,'customer_lifetime_value'].fillna(df['customer_lifetime_value'].astype(float).mean(), inplace = True)"
   ]
  },
  {
   "cell_type": "code",
   "execution_count": 374,
   "id": "9ed7956d",
   "metadata": {},
   "outputs": [
    {
     "data": {
      "text/plain": [
       "185875.60294955593"
      ]
     },
     "execution_count": 374,
     "metadata": {},
     "output_type": "execute_result"
    }
   ],
   "source": [
    "df['customer_lifetime_value'].astype(float).mean()"
   ]
  },
  {
   "cell_type": "code",
   "execution_count": 386,
   "id": "5ca2995e",
   "metadata": {},
   "outputs": [],
   "source": [
    "df.iloc[0,3]=185875.60294955593"
   ]
  },
  {
   "cell_type": "code",
   "execution_count": 413,
   "id": "61f46183",
   "metadata": {},
   "outputs": [
    {
     "name": "stderr",
     "output_type": "stream",
     "text": [
      "/var/folders/5x/4q4xg64s4d7_cmwlbd7j7q380000gn/T/ipykernel_45997/4118612011.py:1: SettingWithCopyWarning: \n",
      "A value is trying to be set on a copy of a slice from a DataFrame\n",
      "\n",
      "See the caveats in the documentation: https://pandas.pydata.org/pandas-docs/stable/user_guide/indexing.html#returning-a-view-versus-a-copy\n",
      "  df.monthly_premium_auto.fillna(df.monthly_premium_auto.mean(), inplace = True)\n"
     ]
    }
   ],
   "source": [
    "df.monthly_premium_auto.fillna(df.monthly_premium_auto.mean(), inplace = True)"
   ]
  },
  {
   "cell_type": "code",
   "execution_count": 392,
   "id": "43c777c6",
   "metadata": {},
   "outputs": [
    {
     "data": {
      "text/plain": [
       "0       1000.0\n",
       "1         94.0\n",
       "2        108.0\n",
       "3        106.0\n",
       "4         68.0\n",
       "         ...  \n",
       "7065      73.0\n",
       "7066      79.0\n",
       "7067      85.0\n",
       "7068      96.0\n",
       "7069      77.0\n",
       "Name: monthly_premium_auto, Length: 8838, dtype: float64"
      ]
     },
     "execution_count": 392,
     "metadata": {},
     "output_type": "execute_result"
    }
   ],
   "source": [
    "df.monthly_premium_auto"
   ]
  },
  {
   "cell_type": "code",
   "execution_count": 396,
   "id": "ea473385",
   "metadata": {},
   "outputs": [
    {
     "data": {
      "text/plain": [
       "0          2.704934\n",
       "1       1131.464935\n",
       "2        566.472247\n",
       "3        529.881344\n",
       "4         17.269323\n",
       "           ...     \n",
       "7065     198.234764\n",
       "7066     379.200000\n",
       "7067     790.784983\n",
       "7068     691.200000\n",
       "7069     369.600000\n",
       "Name: total_claim_amount, Length: 8838, dtype: float64"
      ]
     },
     "execution_count": 396,
     "metadata": {},
     "output_type": "execute_result"
    }
   ],
   "source": [
    "df.df.total_claim_amount"
   ]
  },
  {
   "cell_type": "code",
   "execution_count": 404,
   "id": "a58a5751",
   "metadata": {},
   "outputs": [
    {
     "data": {
      "text/plain": [
       "array([False, False, False, ..., False, False, False])"
      ]
     },
     "execution_count": 404,
     "metadata": {},
     "output_type": "execute_result"
    }
   ],
   "source": [
    "df.total_claim_amount.isnull().values"
   ]
  },
  {
   "cell_type": "code",
   "execution_count": 405,
   "id": "73675d98",
   "metadata": {},
   "outputs": [
    {
     "data": {
      "text/plain": [
       "region                         1\n",
       "gender                       123\n",
       "education                      1\n",
       "customer_lifetime_value        0\n",
       "income                         1\n",
       "monthly_premium_auto           1\n",
       "number_of_open_complaints      1\n",
       "policy_type                    1\n",
       "vehicle_class                  1\n",
       "total_claim_amount             1\n",
       "dtype: int64"
      ]
     },
     "execution_count": 405,
     "metadata": {},
     "output_type": "execute_result"
    }
   ],
   "source": [
    " df.isnull().sum()"
   ]
  },
  {
   "cell_type": "code",
   "execution_count": 411,
   "id": "ef8355ac",
   "metadata": {},
   "outputs": [
    {
     "name": "stderr",
     "output_type": "stream",
     "text": [
      "/var/folders/5x/4q4xg64s4d7_cmwlbd7j7q380000gn/T/ipykernel_45997/932499685.py:1: SettingWithCopyWarning: \n",
      "A value is trying to be set on a copy of a slice from a DataFrame\n",
      "\n",
      "See the caveats in the documentation: https://pandas.pydata.org/pandas-docs/stable/user_guide/indexing.html#returning-a-view-versus-a-copy\n",
      "  df.loc[:,'number_of_open_complaints'].fillna(0,inplace = True)\n"
     ]
    }
   ],
   "source": [
    "df.loc[:,'number_of_open_complaints'].fillna(0, inplace = True)"
   ]
  },
  {
   "cell_type": "code",
   "execution_count": 421,
   "id": "b513a565",
   "metadata": {},
   "outputs": [
    {
     "name": "stderr",
     "output_type": "stream",
     "text": [
      "/var/folders/5x/4q4xg64s4d7_cmwlbd7j7q380000gn/T/ipykernel_45997/4267992887.py:1: SettingWithCopyWarning: \n",
      "A value is trying to be set on a copy of a slice from a DataFrame\n",
      "\n",
      "See the caveats in the documentation: https://pandas.pydata.org/pandas-docs/stable/user_guide/indexing.html#returning-a-view-versus-a-copy\n",
      "  df.loc[:,'gender'].fillna('not_dc', inplace = True)\n"
     ]
    }
   ],
   "source": [
    "df.loc[:,'gender'].fillna('not_dc', inplace = True)"
   ]
  },
  {
   "cell_type": "code",
   "execution_count": 424,
   "id": "02246ce2",
   "metadata": {},
   "outputs": [
    {
     "data": {
      "text/plain": [
       "region                       0\n",
       "gender                       0\n",
       "education                    0\n",
       "customer_lifetime_value      0\n",
       "income                       0\n",
       "monthly_premium_auto         0\n",
       "number_of_open_complaints    0\n",
       "policy_type                  0\n",
       "vehicle_class                0\n",
       "total_claim_amount           0\n",
       "dtype: int64"
      ]
     },
     "execution_count": 424,
     "metadata": {},
     "output_type": "execute_result"
    }
   ],
   "source": [
    " df.isnull().sum()"
   ]
  },
  {
   "cell_type": "code",
   "execution_count": 423,
   "id": "c1d92d38",
   "metadata": {},
   "outputs": [
    {
     "name": "stderr",
     "output_type": "stream",
     "text": [
      "/var/folders/5x/4q4xg64s4d7_cmwlbd7j7q380000gn/T/ipykernel_45997/1379821321.py:1: SettingWithCopyWarning: \n",
      "A value is trying to be set on a copy of a slice from a DataFrame\n",
      "\n",
      "See the caveats in the documentation: https://pandas.pydata.org/pandas-docs/stable/user_guide/indexing.html#returning-a-view-versus-a-copy\n",
      "  df.dropna(inplace=True)\n"
     ]
    }
   ],
   "source": [
    "df.dropna(inplace=True)"
   ]
  },
  {
   "cell_type": "code",
   "execution_count": 425,
   "id": "39bfae37",
   "metadata": {},
   "outputs": [
    {
     "data": {
      "text/html": [
       "<div>\n",
       "<style scoped>\n",
       "    .dataframe tbody tr th:only-of-type {\n",
       "        vertical-align: middle;\n",
       "    }\n",
       "\n",
       "    .dataframe tbody tr th {\n",
       "        vertical-align: top;\n",
       "    }\n",
       "\n",
       "    .dataframe thead th {\n",
       "        text-align: right;\n",
       "    }\n",
       "</style>\n",
       "<table border=\"1\" class=\"dataframe\">\n",
       "  <thead>\n",
       "    <tr style=\"text-align: right;\">\n",
       "      <th></th>\n",
       "      <th>region</th>\n",
       "      <th>gender</th>\n",
       "      <th>education</th>\n",
       "      <th>customer_lifetime_value</th>\n",
       "      <th>income</th>\n",
       "      <th>monthly_premium_auto</th>\n",
       "      <th>number_of_open_complaints</th>\n",
       "      <th>policy_type</th>\n",
       "      <th>vehicle_class</th>\n",
       "      <th>total_claim_amount</th>\n",
       "    </tr>\n",
       "  </thead>\n",
       "  <tbody>\n",
       "    <tr>\n",
       "      <th>0</th>\n",
       "      <td>east</td>\n",
       "      <td>not_dc</td>\n",
       "      <td>master</td>\n",
       "      <td>185875.60295</td>\n",
       "      <td>50734.094942</td>\n",
       "      <td>1000.0</td>\n",
       "      <td>0</td>\n",
       "      <td>personal_auto</td>\n",
       "      <td>four_door_car</td>\n",
       "      <td>2.704934</td>\n",
       "    </tr>\n",
       "    <tr>\n",
       "      <th>1</th>\n",
       "      <td>central</td>\n",
       "      <td>f</td>\n",
       "      <td>bachelor</td>\n",
       "      <td>697953.59</td>\n",
       "      <td>50734.094942</td>\n",
       "      <td>94.0</td>\n",
       "      <td>0</td>\n",
       "      <td>personal_auto</td>\n",
       "      <td>four_door_car</td>\n",
       "      <td>1131.464935</td>\n",
       "    </tr>\n",
       "    <tr>\n",
       "      <th>2</th>\n",
       "      <td>central</td>\n",
       "      <td>f</td>\n",
       "      <td>bachelor</td>\n",
       "      <td>1288743.17</td>\n",
       "      <td>48767.000000</td>\n",
       "      <td>108.0</td>\n",
       "      <td>0</td>\n",
       "      <td>personal_auto</td>\n",
       "      <td>two_door_car</td>\n",
       "      <td>566.472247</td>\n",
       "    </tr>\n",
       "    <tr>\n",
       "      <th>3</th>\n",
       "      <td>west</td>\n",
       "      <td>m</td>\n",
       "      <td>bachelor</td>\n",
       "      <td>764586.18</td>\n",
       "      <td>50734.094942</td>\n",
       "      <td>106.0</td>\n",
       "      <td>0</td>\n",
       "      <td>corporate_auto</td>\n",
       "      <td>suv</td>\n",
       "      <td>529.881344</td>\n",
       "    </tr>\n",
       "    <tr>\n",
       "      <th>4</th>\n",
       "      <td>east</td>\n",
       "      <td>m</td>\n",
       "      <td>high school or below</td>\n",
       "      <td>536307.65</td>\n",
       "      <td>36357.000000</td>\n",
       "      <td>68.0</td>\n",
       "      <td>0</td>\n",
       "      <td>personal_auto</td>\n",
       "      <td>four_door_car</td>\n",
       "      <td>17.269323</td>\n",
       "    </tr>\n",
       "    <tr>\n",
       "      <th>...</th>\n",
       "      <td>...</td>\n",
       "      <td>...</td>\n",
       "      <td>...</td>\n",
       "      <td>...</td>\n",
       "      <td>...</td>\n",
       "      <td>...</td>\n",
       "      <td>...</td>\n",
       "      <td>...</td>\n",
       "      <td>...</td>\n",
       "      <td>...</td>\n",
       "    </tr>\n",
       "    <tr>\n",
       "      <th>7065</th>\n",
       "      <td>west</td>\n",
       "      <td>m</td>\n",
       "      <td>bachelor</td>\n",
       "      <td>23405.98798</td>\n",
       "      <td>71941.000000</td>\n",
       "      <td>73.0</td>\n",
       "      <td>0</td>\n",
       "      <td>personal_auto</td>\n",
       "      <td>four_door_car</td>\n",
       "      <td>198.234764</td>\n",
       "    </tr>\n",
       "    <tr>\n",
       "      <th>7066</th>\n",
       "      <td>west</td>\n",
       "      <td>f</td>\n",
       "      <td>college</td>\n",
       "      <td>3096.511217</td>\n",
       "      <td>21604.000000</td>\n",
       "      <td>79.0</td>\n",
       "      <td>0</td>\n",
       "      <td>corporate_auto</td>\n",
       "      <td>four_door_car</td>\n",
       "      <td>379.200000</td>\n",
       "    </tr>\n",
       "    <tr>\n",
       "      <th>7067</th>\n",
       "      <td>west</td>\n",
       "      <td>m</td>\n",
       "      <td>bachelor</td>\n",
       "      <td>8163.890428</td>\n",
       "      <td>50734.094942</td>\n",
       "      <td>85.0</td>\n",
       "      <td>3</td>\n",
       "      <td>corporate_auto</td>\n",
       "      <td>four_door_car</td>\n",
       "      <td>790.784983</td>\n",
       "    </tr>\n",
       "    <tr>\n",
       "      <th>7068</th>\n",
       "      <td>west</td>\n",
       "      <td>m</td>\n",
       "      <td>college</td>\n",
       "      <td>7524.442436</td>\n",
       "      <td>21941.000000</td>\n",
       "      <td>96.0</td>\n",
       "      <td>0</td>\n",
       "      <td>personal_auto</td>\n",
       "      <td>four_door_car</td>\n",
       "      <td>691.200000</td>\n",
       "    </tr>\n",
       "    <tr>\n",
       "      <th>7069</th>\n",
       "      <td>west</td>\n",
       "      <td>m</td>\n",
       "      <td>college</td>\n",
       "      <td>2611.836866</td>\n",
       "      <td>50734.094942</td>\n",
       "      <td>77.0</td>\n",
       "      <td>0</td>\n",
       "      <td>corporate_auto</td>\n",
       "      <td>two_door_car</td>\n",
       "      <td>369.600000</td>\n",
       "    </tr>\n",
       "  </tbody>\n",
       "</table>\n",
       "<p>8837 rows × 10 columns</p>\n",
       "</div>"
      ],
      "text/plain": [
       "       region  gender             education customer_lifetime_value  \\\n",
       "0        east  not_dc                master            185875.60295   \n",
       "1     central       f              bachelor               697953.59   \n",
       "2     central       f              bachelor              1288743.17   \n",
       "3        west       m              bachelor               764586.18   \n",
       "4        east       m  high school or below               536307.65   \n",
       "...       ...     ...                   ...                     ...   \n",
       "7065     west       m              bachelor             23405.98798   \n",
       "7066     west       f               college             3096.511217   \n",
       "7067     west       m              bachelor             8163.890428   \n",
       "7068     west       m               college             7524.442436   \n",
       "7069     west       m               college             2611.836866   \n",
       "\n",
       "            income  monthly_premium_auto number_of_open_complaints  \\\n",
       "0     50734.094942                1000.0                         0   \n",
       "1     50734.094942                  94.0                         0   \n",
       "2     48767.000000                 108.0                         0   \n",
       "3     50734.094942                 106.0                         0   \n",
       "4     36357.000000                  68.0                         0   \n",
       "...            ...                   ...                       ...   \n",
       "7065  71941.000000                  73.0                         0   \n",
       "7066  21604.000000                  79.0                         0   \n",
       "7067  50734.094942                  85.0                         3   \n",
       "7068  21941.000000                  96.0                         0   \n",
       "7069  50734.094942                  77.0                         0   \n",
       "\n",
       "         policy_type  vehicle_class  total_claim_amount  \n",
       "0      personal_auto  four_door_car            2.704934  \n",
       "1      personal_auto  four_door_car         1131.464935  \n",
       "2      personal_auto   two_door_car          566.472247  \n",
       "3     corporate_auto            suv          529.881344  \n",
       "4      personal_auto  four_door_car           17.269323  \n",
       "...              ...            ...                 ...  \n",
       "7065   personal_auto  four_door_car          198.234764  \n",
       "7066  corporate_auto  four_door_car          379.200000  \n",
       "7067  corporate_auto  four_door_car          790.784983  \n",
       "7068   personal_auto  four_door_car          691.200000  \n",
       "7069  corporate_auto   two_door_car          369.600000  \n",
       "\n",
       "[8837 rows x 10 columns]"
      ]
     },
     "execution_count": 425,
     "metadata": {},
     "output_type": "execute_result"
    }
   ],
   "source": [
    "df"
   ]
  },
  {
   "cell_type": "code",
   "execution_count": null,
   "id": "ecd64921",
   "metadata": {},
   "outputs": [],
   "source": []
  }
 ],
 "metadata": {
  "kernelspec": {
   "display_name": "Python 3 (ipykernel)",
   "language": "python",
   "name": "python3"
  },
  "language_info": {
   "codemirror_mode": {
    "name": "ipython",
    "version": 3
   },
   "file_extension": ".py",
   "mimetype": "text/x-python",
   "name": "python",
   "nbconvert_exporter": "python",
   "pygments_lexer": "ipython3",
   "version": "3.9.7"
  }
 },
 "nbformat": 4,
 "nbformat_minor": 5
}
