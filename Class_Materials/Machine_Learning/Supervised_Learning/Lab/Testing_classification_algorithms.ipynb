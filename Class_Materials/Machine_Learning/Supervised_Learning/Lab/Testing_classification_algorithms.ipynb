{
 "cells": [
  {
   "cell_type": "code",
   "execution_count": 2,
   "id": "07d91ee9-07c5-4a8f-88ee-6030e06986c2",
   "metadata": {},
   "outputs": [],
   "source": [
    "import pandas as pd\n",
    "import numpy as np\n",
    "import matplotlib.pyplot as plt\n",
    "# from sklearn.datasets import load_iris, load_breast_cancer\n",
    "from sklearn.tree import DecisionTreeRegressor\n",
    "from sklearn.tree import DecisionTreeClassifier\n",
    "from sklearn.model_selection import train_test_split\n",
    "from sklearn.tree import plot_tree\n",
    "from sklearn.neighbors import KNeighborsClassifier\n",
    "import warnings\n",
    "warnings.filterwarnings('ignore')\n",
    "from sklearn.linear_model import LogisticRegression"
   ]
  },
  {
   "cell_type": "code",
   "execution_count": 3,
   "id": "703883b4-3d66-4553-b5dd-cbcb8c102201",
   "metadata": {},
   "outputs": [],
   "source": [
    "df = pd.read_csv('Data/DATA_Customer-Churn.csv')"
   ]
  },
  {
   "cell_type": "code",
   "execution_count": 85,
   "id": "518ca359-0edb-4055-9292-0b560be54abd",
   "metadata": {},
   "outputs": [
    {
     "data": {
      "text/plain": [
       "gender               object\n",
       "SeniorCitizen         int64\n",
       "Partner              object\n",
       "Dependents           object\n",
       "tenure                int64\n",
       "PhoneService         object\n",
       "OnlineSecurity       object\n",
       "OnlineBackup         object\n",
       "DeviceProtection     object\n",
       "TechSupport          object\n",
       "StreamingTV          object\n",
       "StreamingMovies      object\n",
       "Contract             object\n",
       "MonthlyCharges      float64\n",
       "TotalCharges         object\n",
       "Churn                object\n",
       "dtype: object"
      ]
     },
     "execution_count": 85,
     "metadata": {},
     "output_type": "execute_result"
    }
   ],
   "source": [
    "df.dtypes"
   ]
  },
  {
   "cell_type": "code",
   "execution_count": 6,
   "id": "b3c28947-603d-48f6-bf12-1aae7b2fd00e",
   "metadata": {
    "tags": []
   },
   "outputs": [
    {
     "data": {
      "text/plain": [
       "gender              0\n",
       "SeniorCitizen       0\n",
       "Partner             0\n",
       "Dependents          0\n",
       "tenure              0\n",
       "PhoneService        0\n",
       "OnlineSecurity      0\n",
       "OnlineBackup        0\n",
       "DeviceProtection    0\n",
       "TechSupport         0\n",
       "StreamingTV         0\n",
       "StreamingMovies     0\n",
       "Contract            0\n",
       "MonthlyCharges      0\n",
       "TotalCharges        0\n",
       "Churn               0\n",
       "dtype: int64"
      ]
     },
     "execution_count": 6,
     "metadata": {},
     "output_type": "execute_result"
    }
   ],
   "source": [
    "df[df.isna()].count()"
   ]
  },
  {
   "cell_type": "code",
   "execution_count": 86,
   "id": "2c94dab0-ea34-43f1-ba98-5f41b870af4a",
   "metadata": {},
   "outputs": [],
   "source": [
    "X = df[['tenure', 'MonthlyCharges', 'TotalCharges', 'SeniorCitizen']]"
   ]
  },
  {
   "cell_type": "markdown",
   "id": "4b178fd0-e0ba-49f3-bf4a-b93b533f356d",
   "metadata": {},
   "source": [
    "### Data splitting and cleaning"
   ]
  },
  {
   "cell_type": "code",
   "execution_count": 87,
   "id": "65349ed6-4033-416f-b9c2-b7a048c954f7",
   "metadata": {},
   "outputs": [],
   "source": [
    "def digitize(x):\n",
    "    if x=='No':\n",
    "        return 0\n",
    "    if x=='Yes':\n",
    "        return 1\n",
    "X['TotalCharges'] = [i for i in map(lambda x: '0' if (x ==' ') else x, X['TotalCharges'])]\n",
    "X['TotalCharges'] = pd.to_numeric(X['TotalCharges'])\n",
    "y =  df['Churn']\n",
    "y = pd.Series([i for i in map(digitize, list(y))])   "
   ]
  },
  {
   "cell_type": "code",
   "execution_count": 75,
   "id": "4cec45f3-6111-40d1-9253-1a08360eab7c",
   "metadata": {},
   "outputs": [
    {
     "name": "stdout",
     "output_type": "stream",
     "text": [
      "Train shape ---> (4718, 4) Test shape --->  (2325, 4)\n"
     ]
    }
   ],
   "source": [
    "X_train, X_test, y_train, y_test = train_test_split(X, y, test_size=0.33, random_state=42)\n",
    "print('Train shape --->', X_train.shape, 'Test shape ---> ', X_test.shape)"
   ]
  },
  {
   "cell_type": "markdown",
   "id": "70d5bb41-c095-43dd-87b4-d58a02646b5a",
   "metadata": {},
   "source": [
    "### Model comparison"
   ]
  },
  {
   "cell_type": "code",
   "execution_count": 84,
   "id": "c889d710-eb2e-4adf-8ab7-0521bd70a197",
   "metadata": {},
   "outputs": [
    {
     "data": {
      "text/html": [
       "<div>\n",
       "<style scoped>\n",
       "    .dataframe tbody tr th:only-of-type {\n",
       "        vertical-align: middle;\n",
       "    }\n",
       "\n",
       "    .dataframe tbody tr th {\n",
       "        vertical-align: top;\n",
       "    }\n",
       "\n",
       "    .dataframe thead th {\n",
       "        text-align: right;\n",
       "    }\n",
       "</style>\n",
       "<table border=\"1\" class=\"dataframe\">\n",
       "  <thead>\n",
       "    <tr style=\"text-align: right;\">\n",
       "      <th></th>\n",
       "      <th>Linear regression</th>\n",
       "      <th>KNeighbour</th>\n",
       "      <th>Decision tree</th>\n",
       "    </tr>\n",
       "  </thead>\n",
       "  <tbody>\n",
       "    <tr>\n",
       "      <th>score</th>\n",
       "      <td>0.79828</td>\n",
       "      <td>0.775484</td>\n",
       "      <td>0.790108</td>\n",
       "    </tr>\n",
       "  </tbody>\n",
       "</table>\n",
       "</div>"
      ],
      "text/plain": [
       "       Linear regression  KNeighbour  Decision tree\n",
       "score            0.79828    0.775484       0.790108"
      ]
     },
     "execution_count": 84,
     "metadata": {},
     "output_type": "execute_result"
    }
   ],
   "source": [
    "l_model = LogisticRegression()\n",
    "l_model.fit(X_train, y_train)\n",
    "nn_model = KNeighborsClassifier()\n",
    "nn_model.fit(X_train, y_train)\n",
    "dt_model = DecisionTreeClassifier(max_depth=5)\n",
    "dt_model.fit(X_train, y_train)\n",
    "pred = l_model.predict(X_test)\n",
    "pd.DataFrame({'Linear regression':l_model.score(X_test, y_test),\n",
    "'KNeighbour':nn_model.score(X_test, y_test),\n",
    "'Decision tree':dt_model.score(X_test, y_test)}, index = ['score'])"
   ]
  },
  {
   "cell_type": "markdown",
   "id": "c98519d6-324c-4abd-ba9b-326d9aa707d4",
   "metadata": {},
   "source": [
    "## Feature importance Decision Tree"
   ]
  },
  {
   "cell_type": "code",
   "execution_count": 97,
   "id": "b34679c5-76cd-485b-aac9-b1c067603d5e",
   "metadata": {},
   "outputs": [
    {
     "data": {
      "text/plain": [
       "<BarContainer object of 4 artists>"
      ]
     },
     "execution_count": 97,
     "metadata": {},
     "output_type": "execute_result"
    },
    {
     "data": {
      "image/png": "[encoded data removed]",
      "text/plain": [
       "<Figure size 1440x144 with 1 Axes>"
      ]
     },
     "metadata": {
      "needs_background": "light"
     },
     "output_type": "display_data"
    }
   ],
   "source": [
    "plt.figure(figsize=(20,2))\n",
    "plt.barh(X.columns,dt_model.feature_importances_)"
   ]
  },
  {
   "cell_type": "markdown",
   "id": "830d82c9-e95a-494c-bf42-124f825090ce",
   "metadata": {},
   "source": [
    "## Confusion matrices"
   ]
  },
  {
   "cell_type": "code",
   "execution_count": 91,
   "id": "31a3440e-0080-429a-8e8b-96a89d2709d6",
   "metadata": {},
   "outputs": [],
   "source": [
    "from sklearn.metrics import accuracy_score, precision_score, recall_score, confusion_matrix\n",
    "from sklearn.metrics import plot_confusion_matrix"
   ]
  },
  {
   "cell_type": "code",
   "execution_count": 112,
   "id": "1656e4f4-fe00-41b5-9d90-57291412ee41",
   "metadata": {},
   "outputs": [],
   "source": [
    "pred_train = dt_model.predict(X_train)\n",
    "pred_test = dt_model.predict(X_test)\n",
    "\n",
    "Error_metric = pd.DataFrame({\n",
    "    \n",
    "'Error_metric': \n",
    "    [\n",
    "        'Accuracy','Precision','Recall'\n",
    "    ],\n",
    "'Train': \n",
    "    [                               \n",
    "        accuracy_score(pred_train, y_train), \n",
    "        precision_score(pred_train, y_train),\n",
    "        recall_score(pred_train, y_train)\n",
    "    ],\n",
    "'Test':\n",
    "    [\n",
    "        accuracy_score(pred_test, y_test),\n",
    "        precision_score(pred_test, y_test),\n",
    "        recall_score(pred_test, y_test)\n",
    "    ]\n",
    "})"
   ]
  },
  {
   "cell_type": "code",
   "execution_count": 94,
   "id": "69baeca1-3e82-4029-bcec-3964d61da3f0",
   "metadata": {},
   "outputs": [
    {
     "data": {
      "image/png": "[encoded data removed]",
      "text/plain": [
       "<Figure size 1008x576 with 4 Axes>"
      ]
     },
     "metadata": {
      "needs_background": "light"
     },
     "output_type": "display_data"
    }
   ],
   "source": [
    "fig, ax = plt.subplots(1,2, figsize=(14,8))\n",
    "plot_confusion_matrix(dt_model,X_train,y_train,ax=ax[0], values_format = 'd')\n",
    "ax[0].title.set_text(\"Train Set\")\n",
    "plot_confusion_matrix(dt_model,X_test,y_test,ax=ax[1],values_format = 'd')\n",
    "ax[1].title.set_text(\"Test Set\")"
   ]
  },
  {
   "cell_type": "code",
   "execution_count": 113,
   "id": "bb08ca51-a779-4a87-b6ae-133a5eb97611",
   "metadata": {
    "tags": []
   },
   "outputs": [
    {
     "data": {
      "text/html": [
       "<div>\n",
       "<style scoped>\n",
       "    .dataframe tbody tr th:only-of-type {\n",
       "        vertical-align: middle;\n",
       "    }\n",
       "\n",
       "    .dataframe tbody tr th {\n",
       "        vertical-align: top;\n",
       "    }\n",
       "\n",
       "    .dataframe thead th {\n",
       "        text-align: right;\n",
       "    }\n",
       "</style>\n",
       "<table border=\"1\" class=\"dataframe\">\n",
       "  <thead>\n",
       "    <tr style=\"text-align: right;\">\n",
       "      <th></th>\n",
       "      <th>Error_metric</th>\n",
       "      <th>Train</th>\n",
       "      <th>Test</th>\n",
       "    </tr>\n",
       "  </thead>\n",
       "  <tbody>\n",
       "    <tr>\n",
       "      <th>0</th>\n",
       "      <td>Accuracy</td>\n",
       "      <td>0.796948</td>\n",
       "      <td>0.790108</td>\n",
       "    </tr>\n",
       "    <tr>\n",
       "      <th>1</th>\n",
       "      <td>Precision</td>\n",
       "      <td>0.438356</td>\n",
       "      <td>0.439490</td>\n",
       "    </tr>\n",
       "    <tr>\n",
       "      <th>2</th>\n",
       "      <td>Recall</td>\n",
       "      <td>0.675776</td>\n",
       "      <td>0.669903</td>\n",
       "    </tr>\n",
       "  </tbody>\n",
       "</table>\n",
       "</div>"
      ],
      "text/plain": [
       "  Error_metric     Train      Test\n",
       "0     Accuracy  0.796948  0.790108\n",
       "1    Precision  0.438356  0.439490\n",
       "2       Recall  0.675776  0.669903"
      ]
     },
     "metadata": {},
     "output_type": "display_data"
    }
   ],
   "source": [
    "display(Error_metric)"
   ]
  },
  {
   "cell_type": "code",
   "execution_count": null,
   "id": "fd78c1b3-074e-4fdc-a880-e8d3a24274d5",
   "metadata": {},
   "outputs": [],
   "source": []
  }
 ],
 "metadata": {
  "kernelspec": {
   "display_name": "Python 3 (ipykernel)",
   "language": "python",
   "name": "python3"
  },
  "language_info": {
   "codemirror_mode": {
    "name": "ipython",
    "version": 3
   },
   "file_extension": ".py",
   "mimetype": "text/x-python",
   "name": "python",
   "nbconvert_exporter": "python",
   "pygments_lexer": "ipython3",
   "version": "3.9.7"
  }
 },
 "nbformat": 4,
 "nbformat_minor": 5
}
