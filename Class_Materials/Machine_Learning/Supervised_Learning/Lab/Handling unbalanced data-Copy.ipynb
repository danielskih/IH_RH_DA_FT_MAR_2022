{
 "cells": [
  {
   "cell_type": "code",
   "execution_count": 119,
   "id": "07d91ee9-07c5-4a8f-88ee-6030e06986c2",
   "metadata": {},
   "outputs": [],
   "source": [
    "import pandas as pd\n",
    "import numpy as np\n",
    "import matplotlib.pyplot as plt\n",
    "# from sklearn.datasets import load_iris, load_breast_cancer\n",
    "from sklearn.tree import DecisionTreeRegressor\n",
    "from sklearn.tree import DecisionTreeClassifier\n",
    "from sklearn.model_selection import train_test_split\n",
    "from sklearn.tree import plot_tree\n",
    "from sklearn.neighbors import KNeighborsClassifier\n",
    "import warnings\n",
    "warnings.filterwarnings('ignore')\n",
    "from sklearn.linear_model import LogisticRegression"
   ]
  },
  {
   "cell_type": "code",
   "execution_count": 168,
   "id": "19c15963-14c4-46d1-b20c-5c3041a040c1",
   "metadata": {},
   "outputs": [],
   "source": [
    "from sklearn.model_selection import cross_val_score\n",
    "from sklearn.model_selection import cross_val_predict"
   ]
  },
  {
   "cell_type": "code",
   "execution_count": 137,
   "id": "703883b4-3d66-4553-b5dd-cbcb8c102201",
   "metadata": {},
   "outputs": [],
   "source": [
    "df = pd.read_csv('Data/DATA_Customer-Churn.csv')"
   ]
  },
  {
   "cell_type": "code",
   "execution_count": 138,
   "id": "518ca359-0edb-4055-9292-0b560be54abd",
   "metadata": {
    "tags": []
   },
   "outputs": [
    {
     "data": {
      "text/plain": [
       "gender               object\n",
       "SeniorCitizen         int64\n",
       "Partner              object\n",
       "Dependents           object\n",
       "tenure                int64\n",
       "PhoneService         object\n",
       "OnlineSecurity       object\n",
       "OnlineBackup         object\n",
       "DeviceProtection     object\n",
       "TechSupport          object\n",
       "StreamingTV          object\n",
       "StreamingMovies      object\n",
       "Contract             object\n",
       "MonthlyCharges      float64\n",
       "TotalCharges         object\n",
       "Churn                object\n",
       "dtype: object"
      ]
     },
     "execution_count": 138,
     "metadata": {},
     "output_type": "execute_result"
    }
   ],
   "source": [
    "df.dtypes"
   ]
  },
  {
   "cell_type": "code",
   "execution_count": 139,
   "id": "b3c28947-603d-48f6-bf12-1aae7b2fd00e",
   "metadata": {
    "tags": []
   },
   "outputs": [
    {
     "data": {
      "text/plain": [
       "gender              0\n",
       "SeniorCitizen       0\n",
       "Partner             0\n",
       "Dependents          0\n",
       "tenure              0\n",
       "PhoneService        0\n",
       "OnlineSecurity      0\n",
       "OnlineBackup        0\n",
       "DeviceProtection    0\n",
       "TechSupport         0\n",
       "StreamingTV         0\n",
       "StreamingMovies     0\n",
       "Contract            0\n",
       "MonthlyCharges      0\n",
       "TotalCharges        0\n",
       "Churn               0\n",
       "dtype: int64"
      ]
     },
     "execution_count": 139,
     "metadata": {},
     "output_type": "execute_result"
    }
   ],
   "source": [
    "df[df.isna()].count()"
   ]
  },
  {
   "cell_type": "code",
   "execution_count": 140,
   "id": "2c94dab0-ea34-43f1-ba98-5f41b870af4a",
   "metadata": {},
   "outputs": [],
   "source": [
    "X = df[['tenure', 'MonthlyCharges', 'TotalCharges', 'SeniorCitizen']]"
   ]
  },
  {
   "cell_type": "code",
   "execution_count": 141,
   "id": "b79c72b9-b481-47da-bcab-ba08fd550ec8",
   "metadata": {},
   "outputs": [
    {
     "data": {
      "text/plain": [
       "(7043, 4)"
      ]
     },
     "execution_count": 141,
     "metadata": {},
     "output_type": "execute_result"
    }
   ],
   "source": [
    "X.shape"
   ]
  },
  {
   "cell_type": "markdown",
   "id": "4b178fd0-e0ba-49f3-bf4a-b93b533f356d",
   "metadata": {
    "tags": []
   },
   "source": [
    "### Data splitting and cleaning"
   ]
  },
  {
   "cell_type": "code",
   "execution_count": 142,
   "id": "65349ed6-4033-416f-b9c2-b7a048c954f7",
   "metadata": {},
   "outputs": [],
   "source": [
    "def digitize(x):\n",
    "    if x=='No':\n",
    "        return 0\n",
    "    if x=='Yes':\n",
    "        return 1\n",
    "X['TotalCharges'] = [i for i in map(lambda x: '0' if (x ==' ') else x, X['TotalCharges'])]\n",
    "X['TotalCharges'] = pd.to_numeric(X['TotalCharges'])\n",
    "y =  df['Churn']\n",
    "y = pd.Series([i for i in map(digitize, list(y))])   "
   ]
  },
  {
   "cell_type": "code",
   "execution_count": 143,
   "id": "190d0f92-6224-4a63-9e04-19cda56e9b4b",
   "metadata": {},
   "outputs": [
    {
     "data": {
      "text/plain": [
       "(7043, 4)"
      ]
     },
     "execution_count": 143,
     "metadata": {},
     "output_type": "execute_result"
    }
   ],
   "source": [
    "X.shape"
   ]
  },
  {
   "cell_type": "code",
   "execution_count": 160,
   "id": "c5b1a5a7-d44c-423d-83a6-ead234c11138",
   "metadata": {},
   "outputs": [
    {
     "data": {
      "text/plain": [
       "0    5174\n",
       "1    1869\n",
       "dtype: int64"
      ]
     },
     "execution_count": 160,
     "metadata": {},
     "output_type": "execute_result"
    }
   ],
   "source": [
    "\n",
    "y.value_counts()"
   ]
  },
  {
   "cell_type": "code",
   "execution_count": 144,
   "id": "68c9896b-0d81-4a09-946c-7860b490168e",
   "metadata": {},
   "outputs": [],
   "source": [
    "from imblearn.over_sampling import SMOTE\n",
    "smote = SMOTE()"
   ]
  },
  {
   "cell_type": "code",
   "execution_count": 145,
   "id": "2d1eaffd-ea84-448a-915c-6d34c9280bf5",
   "metadata": {},
   "outputs": [
    {
     "data": {
      "text/plain": [
       "0    5174\n",
       "1    5174\n",
       "dtype: int64"
      ]
     },
     "execution_count": 145,
     "metadata": {},
     "output_type": "execute_result"
    }
   ],
   "source": [
    "X_sm, y_sm = smote.fit_resample(X, y)\n",
    "y_sm.value_counts()"
   ]
  },
  {
   "cell_type": "code",
   "execution_count": 146,
   "id": "4cec45f3-6111-40d1-9253-1a08360eab7c",
   "metadata": {},
   "outputs": [
    {
     "name": "stdout",
     "output_type": "stream",
     "text": [
      "Train shape ---> (6933, 4) Test shape --->  (3415, 4)\n"
     ]
    }
   ],
   "source": [
    "X_train, X_test, y_train, y_test = train_test_split(X_sm, y_sm, test_size=0.33, random_state=42)\n",
    "print('Train shape --->', X_train.shape, 'Test shape ---> ', X_test.shape)"
   ]
  },
  {
   "cell_type": "markdown",
   "id": "70d5bb41-c095-43dd-87b4-d58a02646b5a",
   "metadata": {
    "tags": []
   },
   "source": [
    "### Model comparison"
   ]
  },
  {
   "cell_type": "code",
   "execution_count": 129,
   "id": "c889d710-eb2e-4adf-8ab7-0521bd70a197",
   "metadata": {},
   "outputs": [
    {
     "data": {
      "text/html": [
       "<div>\n",
       "<style scoped>\n",
       "    .dataframe tbody tr th:only-of-type {\n",
       "        vertical-align: middle;\n",
       "    }\n",
       "\n",
       "    .dataframe tbody tr th {\n",
       "        vertical-align: top;\n",
       "    }\n",
       "\n",
       "    .dataframe thead th {\n",
       "        text-align: right;\n",
       "    }\n",
       "</style>\n",
       "<table border=\"1\" class=\"dataframe\">\n",
       "  <thead>\n",
       "    <tr style=\"text-align: right;\">\n",
       "      <th></th>\n",
       "      <th>Linear regression</th>\n",
       "      <th>KNeighbour</th>\n",
       "      <th>Decision tree</th>\n",
       "    </tr>\n",
       "  </thead>\n",
       "  <tbody>\n",
       "    <tr>\n",
       "      <th>score</th>\n",
       "      <td>0.73265</td>\n",
       "      <td>0.765739</td>\n",
       "      <td>0.752562</td>\n",
       "    </tr>\n",
       "  </tbody>\n",
       "</table>\n",
       "</div>"
      ],
      "text/plain": [
       "       Linear regression  KNeighbour  Decision tree\n",
       "score            0.73265    0.765739       0.752562"
      ]
     },
     "execution_count": 129,
     "metadata": {},
     "output_type": "execute_result"
    }
   ],
   "source": [
    "l_model = LogisticRegression()\n",
    "l_model.fit(X_train, y_train)\n",
    "nn_model = KNeighborsClassifier()\n",
    "nn_model.fit(X_train, y_train)\n",
    "dt_model = DecisionTreeClassifier(max_depth=5)\n",
    "dt_model.fit(X_train, y_train)\n",
    "pred = l_model.predict(X_test)\n",
    "pd.DataFrame({'Linear regression':l_model.score(X_test, y_test),\n",
    "'KNeighbour':nn_model.score(X_test, y_test),\n",
    "'Decision tree':dt_model.score(X_test, y_test)}, index = ['score'])"
   ]
  },
  {
   "cell_type": "markdown",
   "id": "b7c6679b-5b54-47e2-95ff-bd44e9289aa6",
   "metadata": {
    "tags": []
   },
   "source": [
    "### Cross validating"
   ]
  },
  {
   "cell_type": "code",
   "execution_count": 169,
   "id": "98c0a6f2-af7d-466a-8eeb-f669c38b7715",
   "metadata": {
    "tags": []
   },
   "outputs": [
    {
     "data": {
      "text/plain": [
       "array([0.76224784, 0.73775216, 0.7074928 , 0.74747475, 0.77344877,\n",
       "       0.73160173, 0.74170274, 0.75324675, 0.75180375, 0.75901876])"
      ]
     },
     "execution_count": 169,
     "metadata": {},
     "output_type": "execute_result"
    }
   ],
   "source": [
    "#log_model\n",
    "dt_scores=cross_val_score(dt_model, X_train, y_train, cv=10)\n",
    "dt_scores"
   ]
  },
  {
   "cell_type": "code",
   "execution_count": 172,
   "id": "bdc81fbf-3013-4ecf-87f3-2c01a1b9b642",
   "metadata": {},
   "outputs": [
    {
     "data": {
      "text/plain": [
       "(0.7465790053686308, 0.017460083321818632)"
      ]
     },
     "execution_count": 172,
     "metadata": {},
     "output_type": "execute_result"
    }
   ],
   "source": [
    "dt_scores.mean(), dt_scores.std()"
   ]
  },
  {
   "cell_type": "markdown",
   "id": "c98519d6-324c-4abd-ba9b-326d9aa707d4",
   "metadata": {},
   "source": [
    "## Feature importance Decision Tree"
   ]
  },
  {
   "cell_type": "code",
   "execution_count": 130,
   "id": "b34679c5-76cd-485b-aac9-b1c067603d5e",
   "metadata": {},
   "outputs": [
    {
     "data": {
      "text/plain": [
       "<BarContainer object of 4 artists>"
      ]
     },
     "execution_count": 130,
     "metadata": {},
     "output_type": "execute_result"
    },
    {
     "data": {
      "image/png": "[encoded data removed]",
      "text/plain": [
       "<Figure size 1440x144 with 1 Axes>"
      ]
     },
     "metadata": {
      "needs_background": "light"
     },
     "output_type": "display_data"
    }
   ],
   "source": [
    "plt.figure(figsize=(20,2))\n",
    "plt.barh(X.columns,dt_model.feature_importances_)"
   ]
  },
  {
   "cell_type": "markdown",
   "id": "830d82c9-e95a-494c-bf42-124f825090ce",
   "metadata": {},
   "source": [
    "## Confusion matrices"
   ]
  },
  {
   "cell_type": "code",
   "execution_count": 131,
   "id": "31a3440e-0080-429a-8e8b-96a89d2709d6",
   "metadata": {},
   "outputs": [],
   "source": [
    "from sklearn.metrics import accuracy_score, precision_score, recall_score, confusion_matrix\n",
    "from sklearn.metrics import plot_confusion_matrix"
   ]
  },
  {
   "cell_type": "code",
   "execution_count": 132,
   "id": "1656e4f4-fe00-41b5-9d90-57291412ee41",
   "metadata": {},
   "outputs": [],
   "source": [
    "pred_train = dt_model.predict(X_train)\n",
    "pred_test = dt_model.predict(X_test)\n",
    "\n",
    "Error_metric = pd.DataFrame({\n",
    "    \n",
    "'Error_metric': \n",
    "    [\n",
    "        'Accuracy','Precision','Recall'\n",
    "    ],\n",
    "'Train': \n",
    "    [                               \n",
    "        accuracy_score(pred_train, y_train), \n",
    "        precision_score(pred_train, y_train),\n",
    "        recall_score(pred_train, y_train)\n",
    "    ],\n",
    "'Test':\n",
    "    [\n",
    "        accuracy_score(pred_test, y_test),\n",
    "        precision_score(pred_test, y_test),\n",
    "        recall_score(pred_test, y_test)\n",
    "    ]\n",
    "                            })"
   ]
  },
  {
   "cell_type": "code",
   "execution_count": null,
   "id": "69baeca1-3e82-4029-bcec-3964d61da3f0",
   "metadata": {},
   "outputs": [
    {
     "data": {
      "image/png": "[encoded data removed]",
      "text/plain": [
       "<Figure size 1008x576 with 4 Axes>"
      ]
     },
     "metadata": {
      "needs_background": "light"
     },
     "output_type": "display_data"
    }
   ],
   "source": [
    "fig, ax = plt.subplots(1,2, figsize=(14,8))\n",
    "plot_confusion_matrix(dt_model,X_train,y_train,ax=ax[0], values_format = 'd')\n",
    "ax[0].title.set_text(\"Train Set\")\n",
    "plot_confusion_matrix(dt_model,X_test,y_test,ax=ax[1],values_format = 'd')\n",
    "ax[1].title.set_text(\"Test Set\")"
   ]
  },
  {
   "cell_type": "code",
   "execution_count": 134,
   "id": "bb08ca51-a779-4a87-b6ae-133a5eb97611",
   "metadata": {},
   "outputs": [
    {
     "data": {
      "text/html": [
       "<div>\n",
       "<style scoped>\n",
       "    .dataframe tbody tr th:only-of-type {\n",
       "        vertical-align: middle;\n",
       "    }\n",
       "\n",
       "    .dataframe tbody tr th {\n",
       "        vertical-align: top;\n",
       "    }\n",
       "\n",
       "    .dataframe thead th {\n",
       "        text-align: right;\n",
       "    }\n",
       "</style>\n",
       "<table border=\"1\" class=\"dataframe\">\n",
       "  <thead>\n",
       "    <tr style=\"text-align: right;\">\n",
       "      <th></th>\n",
       "      <th>Error_metric</th>\n",
       "      <th>Train</th>\n",
       "      <th>Test</th>\n",
       "    </tr>\n",
       "  </thead>\n",
       "  <tbody>\n",
       "    <tr>\n",
       "      <th>0</th>\n",
       "      <td>Accuracy</td>\n",
       "      <td>0.755517</td>\n",
       "      <td>0.752562</td>\n",
       "    </tr>\n",
       "    <tr>\n",
       "      <th>1</th>\n",
       "      <td>Precision</td>\n",
       "      <td>0.836916</td>\n",
       "      <td>0.818398</td>\n",
       "    </tr>\n",
       "    <tr>\n",
       "      <th>2</th>\n",
       "      <td>Recall</td>\n",
       "      <td>0.721700</td>\n",
       "      <td>0.718978</td>\n",
       "    </tr>\n",
       "  </tbody>\n",
       "</table>\n",
       "</div>"
      ],
      "text/plain": [
       "  Error_metric     Train      Test\n",
       "0     Accuracy  0.755517  0.752562\n",
       "1    Precision  0.836916  0.818398\n",
       "2       Recall  0.721700  0.718978"
      ]
     },
     "metadata": {},
     "output_type": "display_data"
    }
   ],
   "source": [
    "display(Error_metric)"
   ]
  },
  {
   "cell_type": "markdown",
   "id": "0a23e56d-fea8-4e64-a895-e8a29644012b",
   "metadata": {},
   "source": [
    "## Use Random Forest"
   ]
  },
  {
   "cell_type": "code",
   "execution_count": 174,
   "id": "d1ba810a-123e-4272-a8d3-67cc4768e3b0",
   "metadata": {},
   "outputs": [],
   "source": [
    "from sklearn.ensemble import RandomForestClassifier as RFC"
   ]
  },
  {
   "cell_type": "code",
   "execution_count": 242,
   "id": "a57a2478-f141-46e8-b28e-6ddb68b18651",
   "metadata": {},
   "outputs": [],
   "source": [
    "rf_model = RFC(max_depth=18, random_state=0, n_estimators=100)"
   ]
  },
  {
   "cell_type": "code",
   "execution_count": 243,
   "id": "ef8d5c6c-a6d4-4f4b-946c-d07f9d5e83f9",
   "metadata": {},
   "outputs": [
    {
     "data": {
      "text/plain": [
       "RandomForestClassifier(max_depth=18, random_state=0)"
      ]
     },
     "execution_count": 243,
     "metadata": {},
     "output_type": "execute_result"
    }
   ],
   "source": [
    "rf_model.fit(X_train, y_train)"
   ]
  },
  {
   "cell_type": "markdown",
   "id": "04a044b8-af55-47e6-b24c-a92c2fa69d92",
   "metadata": {},
   "source": [
    "### Cross-validate"
   ]
  },
  {
   "cell_type": "code",
   "execution_count": 244,
   "id": "624f9ede-ce2b-477e-afac-0ca346428a2e",
   "metadata": {},
   "outputs": [
    {
     "data": {
      "text/plain": [
       "array([0.78386167, 0.78962536, 0.74639769, 0.78066378, 0.77922078,\n",
       "       0.76046176, 0.76623377, 0.76911977, 0.76334776, 0.79365079])"
      ]
     },
     "execution_count": 244,
     "metadata": {},
     "output_type": "execute_result"
    }
   ],
   "source": [
    "rf_scores=cross_val_score(rf_model, X_train, y_train, cv=10)\n",
    "rf_scores"
   ]
  },
  {
   "cell_type": "code",
   "execution_count": 245,
   "id": "a5a62bff-2908-4740-bafb-ff1f44a81715",
   "metadata": {},
   "outputs": [
    {
     "data": {
      "text/plain": [
       "(0.7732583138923197, 0.01391578976059422)"
      ]
     },
     "execution_count": 245,
     "metadata": {},
     "output_type": "execute_result"
    }
   ],
   "source": [
    "rf_scores.mean(), rf_scores.std()"
   ]
  },
  {
   "cell_type": "code",
   "execution_count": 246,
   "id": "9ea63d49-3d1a-4707-b77a-5e1f7b1a416a",
   "metadata": {},
   "outputs": [],
   "source": [
    "pred_train = rf_model.predict(X_train)\n",
    "pred_test = rf_model.predict(X_test)\n",
    "\n",
    "Error_metric = pd.DataFrame({\n",
    "    \n",
    "'Error_metric': \n",
    "    [\n",
    "        'Accuracy','Precision','Recall'\n",
    "    ],\n",
    "'Train': \n",
    "    [                               \n",
    "        accuracy_score(pred_train, y_train), \n",
    "        precision_score(pred_train, y_train),\n",
    "        recall_score(pred_train, y_train)\n",
    "    ],\n",
    "'Test':\n",
    "    [\n",
    "        accuracy_score(pred_test, y_test),\n",
    "        precision_score(pred_test, y_test),\n",
    "        recall_score(pred_test, y_test)\n",
    "    ]\n",
    "                            })"
   ]
  },
  {
   "cell_type": "code",
   "execution_count": 247,
   "id": "020fd653-bbc3-41d8-8251-73b9f17ccb6c",
   "metadata": {},
   "outputs": [
    {
     "data": {
      "image/png": "[encoded data removed]",
      "text/plain": [
       "<Figure size 1008x576 with 4 Axes>"
      ]
     },
     "metadata": {
      "needs_background": "light"
     },
     "output_type": "display_data"
    }
   ],
   "source": [
    "fig, ax = plt.subplots(1,2, figsize=(14,8))\n",
    "plot_confusion_matrix(dt_model,X_train,y_train,ax=ax[0], values_format = 'd')\n",
    "ax[0].title.set_text(\"Train Set\")\n",
    "plot_confusion_matrix(dt_model,X_test,y_test,ax=ax[1],values_format = 'd')\n",
    "ax[1].title.set_text(\"Test Set\")"
   ]
  },
  {
   "cell_type": "code",
   "execution_count": 248,
   "id": "9cf3d289-8fde-4ba7-8974-1dcdbd96c28a",
   "metadata": {},
   "outputs": [
    {
     "data": {
      "text/html": [
       "<div>\n",
       "<style scoped>\n",
       "    .dataframe tbody tr th:only-of-type {\n",
       "        vertical-align: middle;\n",
       "    }\n",
       "\n",
       "    .dataframe tbody tr th {\n",
       "        vertical-align: top;\n",
       "    }\n",
       "\n",
       "    .dataframe thead th {\n",
       "        text-align: right;\n",
       "    }\n",
       "</style>\n",
       "<table border=\"1\" class=\"dataframe\">\n",
       "  <thead>\n",
       "    <tr style=\"text-align: right;\">\n",
       "      <th></th>\n",
       "      <th>Error_metric</th>\n",
       "      <th>Train</th>\n",
       "      <th>Test</th>\n",
       "    </tr>\n",
       "  </thead>\n",
       "  <tbody>\n",
       "    <tr>\n",
       "      <th>0</th>\n",
       "      <td>Accuracy</td>\n",
       "      <td>0.989182</td>\n",
       "      <td>0.771303</td>\n",
       "    </tr>\n",
       "    <tr>\n",
       "      <th>1</th>\n",
       "      <td>Precision</td>\n",
       "      <td>0.997134</td>\n",
       "      <td>0.794065</td>\n",
       "    </tr>\n",
       "    <tr>\n",
       "      <th>2</th>\n",
       "      <td>Recall</td>\n",
       "      <td>0.981659</td>\n",
       "      <td>0.755079</td>\n",
       "    </tr>\n",
       "  </tbody>\n",
       "</table>\n",
       "</div>"
      ],
      "text/plain": [
       "  Error_metric     Train      Test\n",
       "0     Accuracy  0.989182  0.771303\n",
       "1    Precision  0.997134  0.794065\n",
       "2       Recall  0.981659  0.755079"
      ]
     },
     "metadata": {},
     "output_type": "display_data"
    }
   ],
   "source": [
    "display(Error_metric)"
   ]
  },
  {
   "cell_type": "code",
   "execution_count": 190,
   "id": "9ce72922-135f-4a99-bae6-5941e85b7bb6",
   "metadata": {},
   "outputs": [
    {
     "data": {
      "text/plain": [
       "0.7462600690448792"
      ]
     },
     "execution_count": 190,
     "metadata": {},
     "output_type": "execute_result"
    }
   ],
   "source": [
    "P=1297/(1297+441)\n",
    "P"
   ]
  },
  {
   "cell_type": "code",
   "execution_count": 191,
   "id": "3b2b3cfa-a61d-4fb2-8f28-e4477d8f5b99",
   "metadata": {},
   "outputs": [
    {
     "data": {
      "text/plain": [
       "0.7697329376854599"
      ]
     },
     "execution_count": 191,
     "metadata": {},
     "output_type": "execute_result"
    }
   ],
   "source": [
    "R=1297/(1297+388)\n",
    "R"
   ]
  },
  {
   "cell_type": "code",
   "execution_count": null,
   "id": "06b0e471-4e78-4d45-b29a-548a3c53f770",
   "metadata": {},
   "outputs": [],
   "source": []
  }
 ],
 "metadata": {
  "kernelspec": {
   "display_name": "Python 3 (ipykernel)",
   "language": "python",
   "name": "python3"
  },
  "language_info": {
   "codemirror_mode": {
    "name": "ipython",
    "version": 3
   },
   "file_extension": ".py",
   "mimetype": "text/x-python",
   "name": "python",
   "nbconvert_exporter": "python",
   "pygments_lexer": "ipython3",
   "version": "3.9.7"
  }
 },
 "nbformat": 4,
 "nbformat_minor": 5
}
