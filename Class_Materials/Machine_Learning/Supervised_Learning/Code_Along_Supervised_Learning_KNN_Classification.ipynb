{
 "cells": [
  {
   "cell_type": "markdown",
   "id": "2aeb1073",
   "metadata": {},
   "source": [
    "## import_required_libs"
   ]
  },
  {
   "cell_type": "markdown",
   "id": "27114681",
   "metadata": {},
   "source": [
    "<b>import the required python libraries"
   ]
  },
  {
   "cell_type": "code",
   "execution_count": 8,
   "id": "55209572",
   "metadata": {},
   "outputs": [],
   "source": [
    "import pandas as pd\n",
    "import numpy as np;\n",
    "import scipy;\n",
    "## plotting libraries\n",
    "from matplotlib import pyplot as plt\n",
    "import seaborn as sns\n",
    "## stats Libraries\n",
    "from scipy import stats\n",
    "import statsmodels.api as sm\n",
    "## Sklearn libraries\n",
    "from sklearn import model_selection\n",
    "from sklearn import metrics as metrics\n",
    "from sklearn import preprocessing\n",
    "from sklearn import linear_model as lm\n",
    "%matplotlib inline"
   ]
  },
  {
   "cell_type": "markdown",
   "id": "3324c54c",
   "metadata": {},
   "source": [
    "## load_classification_sample_datasets"
   ]
  },
  {
   "cell_type": "markdown",
   "id": "6df81a27",
   "metadata": {},
   "source": [
    "<b>load classification sample datasets"
   ]
  },
  {
   "cell_type": "code",
   "execution_count": 9,
   "id": "6f73c81b",
   "metadata": {},
   "outputs": [],
   "source": [
    "from sklearn import datasets\n",
    "## comment the unneeded data sets\n",
    "\n",
    "## classification data sets\n",
    "X, y= datasets.load_breast_cancer(return_X_y=True,as_frame=True)\n",
    "#X, y= datasets.load_iris(return_X_y=True,as_frame=True)\n",
    "#X, y= datasets.load_wine(return_X_y=True,as_frame=True)"
   ]
  },
  {
   "cell_type": "markdown",
   "id": "7c162590",
   "metadata": {},
   "source": [
    "## train_test_split"
   ]
  },
  {
   "cell_type": "markdown",
   "id": "87149928",
   "metadata": {},
   "source": [
    "<b>splitting the data into train and test sets"
   ]
  },
  {
   "cell_type": "code",
   "execution_count": 10,
   "id": "d66c85b0",
   "metadata": {},
   "outputs": [],
   "source": [
    "X_train, X_test, y_train, y_test=model_selection.train_test_split(X, y, test_size=.20,random_state=123)"
   ]
  },
  {
   "cell_type": "markdown",
   "id": "90451e49",
   "metadata": {},
   "source": [
    "## Knn_Classification"
   ]
  },
  {
   "cell_type": "markdown",
   "id": "0bbda9fa",
   "metadata": {},
   "source": [
    "<b>Knn Classification"
   ]
  },
  {
   "cell_type": "code",
   "execution_count": 11,
   "id": "d0e6e40f",
   "metadata": {},
   "outputs": [],
   "source": [
    "from sklearn.neighbors import KNeighborsClassifier\n",
    "model = KNeighborsClassifier(n_neighbors=2,weights='uniform')\n",
    "model.fit(X_train, y_train)\n",
    "y_pred=model.predict(X_test)\n",
    "y_pred_train=model.predict(X_train)\n",
    "#model.predict_proba(inputdata)"
   ]
  },
  {
   "cell_type": "markdown",
   "id": "62ec8bfd",
   "metadata": {},
   "source": [
    "## classification_plot_confusion_matrix"
   ]
  },
  {
   "cell_type": "markdown",
   "id": "40d38d51",
   "metadata": {},
   "source": [
    "<b>Classification Model confusion matrix for training and test set"
   ]
  },
  {
   "cell_type": "code",
   "execution_count": 12,
   "id": "0460e8ea",
   "metadata": {},
   "outputs": [
    {
     "data": {
      "image/png": "[encoded data removed]",
      "text/plain": [
       "<Figure size 1008x576 with 4 Axes>"
      ]
     },
     "metadata": {
      "needs_background": "light"
     },
     "output_type": "display_data"
    }
   ],
   "source": [
    "from sklearn.metrics import plot_confusion_matrix\n",
    "\n",
    "fig, ax = plt.subplots(1,2, figsize=(14,8))\n",
    "\n",
    "plot_confusion_matrix(model,X_train,y_train,ax=ax[0], values_format = 'd')\n",
    "ax[0].title.set_text(\"Train Set\")\n",
    "\n",
    "plot_confusion_matrix(model,X_test,y_test,ax=ax[1],values_format = 'd')\n",
    "ax[1].title.set_text(\"Test Set\")"
   ]
  },
  {
   "cell_type": "markdown",
   "id": "eb2ee98e",
   "metadata": {},
   "source": [
    "## classification_model_evaluating"
   ]
  },
  {
   "cell_type": "markdown",
   "id": "573ea4e8",
   "metadata": {},
   "source": [
    "<b>Classification Model Metrics"
   ]
  },
  {
   "cell_type": "code",
   "execution_count": 13,
   "id": "1dddbc3a",
   "metadata": {},
   "outputs": [
    {
     "data": {
      "text/html": [
       "<div>\n",
       "<style scoped>\n",
       "    .dataframe tbody tr th:only-of-type {\n",
       "        vertical-align: middle;\n",
       "    }\n",
       "\n",
       "    .dataframe tbody tr th {\n",
       "        vertical-align: top;\n",
       "    }\n",
       "\n",
       "    .dataframe thead th {\n",
       "        text-align: right;\n",
       "    }\n",
       "</style>\n",
       "<table border=\"1\" class=\"dataframe\">\n",
       "  <thead>\n",
       "    <tr style=\"text-align: right;\">\n",
       "      <th></th>\n",
       "      <th>Error_metric</th>\n",
       "      <th>Train</th>\n",
       "      <th>Test</th>\n",
       "    </tr>\n",
       "  </thead>\n",
       "  <tbody>\n",
       "    <tr>\n",
       "      <th>0</th>\n",
       "      <td>Accuracy</td>\n",
       "      <td>0.96</td>\n",
       "      <td>0.94</td>\n",
       "    </tr>\n",
       "    <tr>\n",
       "      <th>1</th>\n",
       "      <td>Precision</td>\n",
       "      <td>1.00</td>\n",
       "      <td>0.97</td>\n",
       "    </tr>\n",
       "    <tr>\n",
       "      <th>2</th>\n",
       "      <td>Recall</td>\n",
       "      <td>0.93</td>\n",
       "      <td>0.93</td>\n",
       "    </tr>\n",
       "  </tbody>\n",
       "</table>\n",
       "</div>"
      ],
      "text/plain": [
       "  Error_metric  Train  Test\n",
       "0     Accuracy   0.96  0.94\n",
       "1    Precision   1.00  0.97\n",
       "2       Recall   0.93  0.93"
      ]
     },
     "execution_count": 13,
     "metadata": {},
     "output_type": "execute_result"
    }
   ],
   "source": [
    "from sklearn.metrics import accuracy_score, precision_score, recall_score, confusion_matrix\n",
    "from sklearn.metrics import plot_confusion_matrix\n",
    "\n",
    "def evaluate_classification_model(y_train, y_pred_train, y_test, y_pred_test):\n",
    "    performance_df = pd.DataFrame({'Error_metric': ['Accuracy','Precision','Recall'],\n",
    "                               'Train': [accuracy_score(y_train, y_pred_train),\n",
    "                                         precision_score(y_train, y_pred_train),\n",
    "                                         recall_score(y_train, y_pred_train)],\n",
    "                               'Test': [accuracy_score(y_test, y_pred_test),\n",
    "                                        precision_score(y_test, y_pred_test),\n",
    "                                        recall_score(y_test, y_pred_test)]})\n",
    "    \n",
    "    pd.options.display.float_format = '{:.2f}'.format\n",
    "\n",
    "    df_train = pd.DataFrame({'Real': y_train, 'Predicted': y_pred_train})\n",
    "    df_test  = pd.DataFrame({'Real': y_test,  'Predicted': y_pred_test})\n",
    "\n",
    "    return performance_df, df_train, df_test\n",
    "\n",
    "## calling the function\n",
    "error_metrics_df,y_train_vs_predicted, \\\n",
    "    y_test_vs_predicted=evaluate_classification_model(y_train, y_pred_train,\n",
    "                                                    y_test, y_pred)\n",
    "error_metrics_df"
   ]
  },
  {
   "cell_type": "code",
   "execution_count": null,
   "id": "bc082e7c",
   "metadata": {},
   "outputs": [],
   "source": []
  }
 ],
 "metadata": {
  "kernelspec": {
   "display_name": "Python 3 (ipykernel)",
   "language": "python",
   "name": "python3"
  },
  "language_info": {
   "codemirror_mode": {
    "name": "ipython",
    "version": 3
   },
   "file_extension": ".py",
   "mimetype": "text/x-python",
   "name": "python",
   "nbconvert_exporter": "python",
   "pygments_lexer": "ipython3",
   "version": "3.9.7"
  }
 },
 "nbformat": 4,
 "nbformat_minor": 5
}
