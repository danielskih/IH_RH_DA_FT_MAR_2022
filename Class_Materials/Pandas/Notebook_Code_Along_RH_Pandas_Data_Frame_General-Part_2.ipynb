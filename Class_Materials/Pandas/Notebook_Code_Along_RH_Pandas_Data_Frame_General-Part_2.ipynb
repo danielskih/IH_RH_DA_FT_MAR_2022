{
 "cells": [
  {
   "cell_type": "markdown",
   "id": "370cb6bc",
   "metadata": {},
   "source": [
    "## Pandas Data Frames"
   ]
  },
  {
   "cell_type": "markdown",
   "id": "3bde899d",
   "metadata": {},
   "source": [
    "- What Is Pandas?\n",
    "- Pandas vs Numpy \n",
    "- Pandas Data Frame Intro\n",
    "- Pandas Data Frame fundamental operations\n",
    "    - Creating\n",
    "    - Selecting/indexing\n",
    "    - Inserting rows/columns\n",
    "    - Setting data\n",
    "    - Filtering\n",
    "    - dropping rows/ columns\n",
    "- Dealing with Missing values\n",
    "- Applying functions, working with Numpy functions\n",
    "- Concatinatng & Merging\n",
    "- I/O operations"
   ]
  },
  {
   "cell_type": "code",
   "execution_count": null,
   "id": "5a990cc2",
   "metadata": {
    "slideshow": {
     "slide_type": "slide"
    }
   },
   "outputs": [],
   "source": [
    "%matplotlib inline\n",
    "import numpy as np\n",
    "import pandas as pd\n",
    "from IPython.display import Image\n",
    "from IPython.display import HTML\n",
    "from IPython.display import Markdown, display\n",
    "def printmd(string):\n",
    "    display(Markdown(string))\n"
   ]
  },
  {
   "cell_type": "markdown",
   "id": "234e63a3",
   "metadata": {},
   "source": [
    "CSS = \"\"\"\n",
    ".output {\n",
    "    align-items: center;\n",
    "}\n",
    "\"\"\"\n",
    "HTML('''<script>\n",
    "code_show=true; \n",
    "function code_toggle() {\n",
    " if (code_show){\n",
    " $('div.input').hide();\n",
    " } else {\n",
    " $('div.input').show();\n",
    " }\n",
    " code_show = !code_show\n",
    "} \n",
    "$( document ).ready(code_toggle);\n",
    "</script>\n",
    "<form action=\"javascript:code_toggle()\"><input type=\"submit\" value=\"Code mode\"></form>''')"
   ]
  },
  {
   "cell_type": "code",
   "execution_count": null,
   "id": "13f53749",
   "metadata": {},
   "outputs": [],
   "source": [
    "from IPython.display import display, HTML\n",
    "\n",
    "CSS = \"\"\"\n",
    ".output {\n",
    "    align-items: center;\n",
    "}\n",
    "div.output_area {\n",
    "    width: 80%;\n",
    "}\n",
    "\"\"\"\n",
    "HTML('<style>{}</style>'.format(CSS))"
   ]
  },
  {
   "cell_type": "markdown",
   "id": "e34e63be",
   "metadata": {},
   "source": [
    "# What is Pandas?\n",
    "\n",
    "### - Enables working with tabular and labeled data easily and intuitively\n",
    "### - Pandas is an open-source library built on top of Numpy Package.\n",
    "- https://github.com/pandas-dev/pandas\n",
    "- https://github.com/pandas-dev/pandas/blob/059c8bac51e47d6eaaa3e36d6a293a22312925e6/pandas/core/frame.py\n",
    "\n",
    "### - Pandas data structures are:\n",
    "    - Series\n",
    "    - Index\n",
    "    - Data Frame\n",
    "    "
   ]
  },
  {
   "cell_type": "markdown",
   "id": "c0128413",
   "metadata": {},
   "source": [
    "## Quick refresh to Numpy Arrays..\n",
    "- contains Numerical ***Homogonius*** Data\n",
    "- may contain multi dimensional array elements.\n",
    "- used for performing various numerical computations and processing of the multidimensional and single-dimensional array elements."
   ]
  },
  {
   "cell_type": "code",
   "execution_count": null,
   "id": "37b55f99",
   "metadata": {},
   "outputs": [],
   "source": [
    "import numpy as np\n",
    "np.random.seed(0)  # seed for reproducibility\n",
    "\n",
    "two_dim_arr = np.random.randint(10, size=(3, 4))  # Two-dimensional array\n",
    "three_dim_arr = np.random.randint(10, size=(3, 4, 5))  # Three-dimensional array\n"
   ]
  },
  {
   "cell_type": "markdown",
   "id": "fcb8c2c3",
   "metadata": {},
   "source": [
    "### Here is a three-dimensional Array example..."
   ]
  },
  {
   "cell_type": "code",
   "execution_count": null,
   "id": "16c6d4e6",
   "metadata": {},
   "outputs": [],
   "source": [
    "print(\"Three Dimentional Array\")\n",
    "\n",
    "three_dim_arr"
   ]
  },
  {
   "cell_type": "markdown",
   "id": "287b2eea",
   "metadata": {},
   "source": [
    "### A two dimensional Array example..."
   ]
  },
  {
   "cell_type": "code",
   "execution_count": null,
   "id": "a2d4c48a",
   "metadata": {},
   "outputs": [],
   "source": [
    "print(\"Two Dimentional Array\")\n",
    "two_dim_arr"
   ]
  },
  {
   "cell_type": "markdown",
   "id": "2f96c14b",
   "metadata": {},
   "source": [
    "### What I mean by Homogeneous..."
   ]
  },
  {
   "cell_type": "code",
   "execution_count": null,
   "id": "cfc3a5c8",
   "metadata": {},
   "outputs": [],
   "source": [
    "print(two_dim_arr)"
   ]
  },
  {
   "cell_type": "markdown",
   "id": "f6d7794b",
   "metadata": {},
   "source": [
    "**two_dim_arr[0,0] = \"Hello\"**"
   ]
  },
  {
   "cell_type": "code",
   "execution_count": null,
   "id": "39a674af",
   "metadata": {},
   "outputs": [],
   "source": [
    "printmd(\"***Oops....***\")\n",
    "##two_dim_arr[0,0] = \"Hello\" "
   ]
  },
  {
   "cell_type": "markdown",
   "id": "8b4c900b",
   "metadata": {},
   "source": [
    "### You can directly and simply form the DataFrame from the 2D array"
   ]
  },
  {
   "cell_type": "code",
   "execution_count": null,
   "id": "52517c30",
   "metadata": {},
   "outputs": [],
   "source": [
    "print(\"Data Frame formed by 2D Array\")\n",
    "printmd(\"***df=pd.DataFrame(two_dim_arr)***\")\n",
    "df=pd.DataFrame(two_dim_arr)\n",
    "df"
   ]
  },
  {
   "cell_type": "markdown",
   "id": "5c18022e",
   "metadata": {},
   "source": [
    "### Pandas Data Frame is Heterogeneous!\n",
    "**df.iloc[0,0]=\"Hello\"**"
   ]
  },
  {
   "cell_type": "code",
   "execution_count": null,
   "id": "89d5e5ae",
   "metadata": {},
   "outputs": [],
   "source": [
    "df.iloc[0,0]=\"Hello\"\n",
    "df"
   ]
  },
  {
   "cell_type": "markdown",
   "id": "34d1c0b4",
   "metadata": {},
   "source": [
    "### Pandas Data Frame labels the data with Indices and Columns labels\n",
    "pd.DataFrame(np.random.randint(10,size=(3,2)),\n",
    "             columns=['foo', 'bar'],\n",
    "             index=['a', 'b', 'c'])"
   ]
  },
  {
   "cell_type": "code",
   "execution_count": null,
   "id": "d3e2706e",
   "metadata": {},
   "outputs": [],
   "source": [
    "##np.random.seed(0)\n",
    "foo_df=pd.DataFrame(np.random.randint(10,size=(3,2)),\n",
    "             columns=['foo', 'bar'],\n",
    "             index=['a', 'b', 'c'])"
   ]
  },
  {
   "cell_type": "code",
   "execution_count": null,
   "id": "9ccbd4fe",
   "metadata": {},
   "outputs": [],
   "source": [
    "foo_df\n",
    "\n",
    "foo_df.loc[:,\"bar\"]"
   ]
  },
  {
   "cell_type": "markdown",
   "id": "5b93b668",
   "metadata": {},
   "source": [
    "### Pandas DataFrame is relevant for statistical observations/data points with various variables (categorical, etc) "
   ]
  },
  {
   "cell_type": "code",
   "execution_count": null,
   "id": "99409634",
   "metadata": {
    "scrolled": true
   },
   "outputs": [],
   "source": [
    "Image(\"res/Tidy_census.png\")"
   ]
  },
  {
   "cell_type": "markdown",
   "id": "f4812725",
   "metadata": {},
   "source": [
    "### It is intuitive...  Look how convenient it is!!"
   ]
  },
  {
   "cell_type": "code",
   "execution_count": null,
   "id": "0980f249",
   "metadata": {},
   "outputs": [],
   "source": [
    "Image('res/excel-to-pandas.png')"
   ]
  },
  {
   "cell_type": "markdown",
   "id": "8792a0aa",
   "metadata": {},
   "source": [
    "source: https://jalammar.github.io/"
   ]
  },
  {
   "cell_type": "markdown",
   "id": "1f7e1a34",
   "metadata": {},
   "source": [
    "### Describing the Data Frame...\n",
    "- df.count())\n",
    "- df.describe())\n",
    "- df.mean())"
   ]
  },
  {
   "cell_type": "code",
   "execution_count": null,
   "id": "25b28bae",
   "metadata": {},
   "outputs": [],
   "source": [
    "print(df,\"\\n\")\n",
    "df.info()\n",
    "#print(\"df.count()  \\n\",df.count())\n",
    "#print(\"\\n df.describe() \\n\",df.describe())\n",
    "#print(\"\\n df.mean() \\n\",df.mean())"
   ]
  },
  {
   "cell_type": "code",
   "execution_count": null,
   "id": "e2b6ed83",
   "metadata": {},
   "outputs": [],
   "source": [
    "type(df.iloc[:,1])"
   ]
  },
  {
   "cell_type": "code",
   "execution_count": null,
   "id": "a4a7d303",
   "metadata": {},
   "outputs": [],
   "source": [
    "pd.Series([3,4,5])   ##. Pandas Series is a one dimentional data frame\n"
   ]
  },
  {
   "cell_type": "markdown",
   "id": "6eec01c8",
   "metadata": {},
   "source": [
    "### Pandas Data Frame operations"
   ]
  },
  {
   "cell_type": "code",
   "execution_count": null,
   "id": "0d6e25ec",
   "metadata": {},
   "outputs": [],
   "source": [
    "Image(\"res/CRUD.png\")"
   ]
  },
  {
   "cell_type": "markdown",
   "id": "36d59797",
   "metadata": {},
   "source": [
    "### Data Frame creation\n",
    "You can create/form a Data Frame from:\n",
    "- Dict of 1D ndarrays, lists, dicts, or Series\n",
    "\n",
    "- 2-D numpy.ndarray\n",
    "\n",
    "- Structured or record ndarray\n",
    "\n",
    "- A Series\n",
    "\n",
    "- Another DataFrame"
   ]
  },
  {
   "cell_type": "markdown",
   "id": "9d278902",
   "metadata": {},
   "source": [
    "#### Here is an example..."
   ]
  },
  {
   "cell_type": "code",
   "execution_count": null,
   "id": "6f8fa45f",
   "metadata": {},
   "outputs": [],
   "source": [
    "print('dic = {\"col1\": [1.0, 2.0, 3.0, 4.0], \"col2\": [4.0, 3.0, 2.0, 1.0]}\\n')\n",
    "\n",
    "dic = {\"col1\": [1.0, 2.0, 3.0, 4.0], \"col2\": [4.0, 3.0, 2.0, 1.0]}\n",
    "\n",
    "print(\"pd.DataFrame(dic)\\n\\n\",pd.DataFrame(dic))"
   ]
  },
  {
   "cell_type": "markdown",
   "id": "91e2c266",
   "metadata": {},
   "source": [
    "#### creating Index for the Data frame..."
   ]
  },
  {
   "cell_type": "code",
   "execution_count": null,
   "id": "8331acf0",
   "metadata": {},
   "outputs": [],
   "source": [
    "print('pd.DataFrame(dic, index=[\"a\", \"b\", \"c\", \"d\"]\\n\\n',\n",
    "      pd.DataFrame(dic, index=[\"a\", \"b\", \"c\", \"d\"]))"
   ]
  },
  {
   "cell_type": "markdown",
   "id": "eced2e1d",
   "metadata": {},
   "source": [
    "### Creating Data frame from Pandas Series objects.. "
   ]
  },
  {
   "cell_type": "markdown",
   "id": "6d5b5cf3",
   "metadata": {},
   "source": [
    "d = {\n",
    "       \"apples\": pd.Series([3, 2, 0,1]),\n",
    "        \"oranges\": pd.Series([0, 3, 7, 2]),\n",
    "    }\n",
    "\n",
    "pd.DataFrame(d)"
   ]
  },
  {
   "cell_type": "code",
   "execution_count": null,
   "id": "24e5a5e3",
   "metadata": {
    "scrolled": false
   },
   "outputs": [],
   "source": [
    "Image(\"res/series-and-dataframe.width-1200.png\")"
   ]
  },
  {
   "cell_type": "markdown",
   "id": "dc144cad",
   "metadata": {},
   "source": [
    "source: https://storage.googleapis.com/lds-media/images/series-and-dataframe.width-1200.png"
   ]
  },
  {
   "cell_type": "markdown",
   "id": "391e2c46",
   "metadata": {},
   "source": [
    "### Data Frame Selection / Indexing"
   ]
  },
  {
   "cell_type": "code",
   "execution_count": null,
   "id": "eb5c2370",
   "metadata": {},
   "outputs": [],
   "source": [
    "data = {\n",
    "    'name': ['Xavier', 'Ann', 'Jana', 'Yi', 'Robin', 'Amal', 'Nori'],\n",
    "    'city': ['Mexico City', 'Toronto', 'Prague', 'Shanghai',\n",
    "             'Manchester', 'Cairo', 'Osaka'],\n",
    "    'age': [41, 28, 33, 34, 38, 31, 37],\n",
    "    'py-score': [88.0, 79.0, 81.0, 80.0, 68.0, 61.0, 84.0]\n",
    "}\n",
    "\n",
    "row_labels = [101, 102, 103, 104, 105, 106, 107]\n",
    "students_df = pd.DataFrame(data=data, index=row_labels)\n",
    "students_df"
   ]
  },
  {
   "cell_type": "markdown",
   "id": "85a5d912",
   "metadata": {},
   "source": [
    "Source: https://realpython.com/"
   ]
  },
  {
   "cell_type": "markdown",
   "id": "1184fbfb",
   "metadata": {},
   "source": [
    "### data Selection"
   ]
  },
  {
   "cell_type": "code",
   "execution_count": null,
   "id": "e68ed452",
   "metadata": {},
   "outputs": [],
   "source": [
    "print('df[\"city\"]')\n",
    "cities = students_df['city']\n",
    "cities"
   ]
  },
  {
   "cell_type": "code",
   "execution_count": null,
   "id": "b5e0fc30",
   "metadata": {},
   "outputs": [],
   "source": [
    "print(\"df.city\")\n",
    "students_df.city"
   ]
  },
  {
   "cell_type": "markdown",
   "id": "d66b3d79",
   "metadata": {},
   "source": [
    "### Selecting by Label\n",
    "- .loc[]  function"
   ]
  },
  {
   "cell_type": "code",
   "execution_count": null,
   "id": "5ae2b9dc",
   "metadata": {},
   "outputs": [],
   "source": [
    "#print(\"students_df.loc[:, 'city']\")\n",
    "#students_df.loc[:, 'city']"
   ]
  },
  {
   "cell_type": "code",
   "execution_count": null,
   "id": "4370cf9c",
   "metadata": {},
   "outputs": [],
   "source": [
    "print(\"students_df.loc[102:106, ['name', 'city']]\")\n",
    "students_df.loc[102:106,:]"
   ]
  },
  {
   "cell_type": "markdown",
   "id": "c00b849d",
   "metadata": {},
   "source": [
    "### Selecting by Position\n",
    "- .iloc[]"
   ]
  },
  {
   "cell_type": "code",
   "execution_count": null,
   "id": "b10bb7a6",
   "metadata": {},
   "outputs": [],
   "source": [
    "#print(\"students_df.iloc[:, 1]\")\n",
    "#students_df.iloc[:, 1]"
   ]
  },
  {
   "cell_type": "code",
   "execution_count": null,
   "id": "765ece99",
   "metadata": {},
   "outputs": [],
   "source": [
    "print(\"students_df.iloc[1:6, [0, 1]]\")\n",
    "students_df.iloc[1:6, [0, 1]]"
   ]
  },
  {
   "cell_type": "markdown",
   "id": "0a2b23c3",
   "metadata": {},
   "source": [
    "### Hmm.. Can you tell what is the difference?"
   ]
  },
  {
   "cell_type": "markdown",
   "id": "832ba7a1",
   "metadata": {},
   "source": [
    "#### You can use loc and iloc also to select certain data values but better to use at[] and iat[]"
   ]
  },
  {
   "cell_type": "code",
   "execution_count": null,
   "id": "287cf192",
   "metadata": {},
   "outputs": [],
   "source": [
    "print('df.at[103, name]')\n",
    "students_df.at[103, 'name']"
   ]
  },
  {
   "cell_type": "code",
   "execution_count": null,
   "id": "d9091141",
   "metadata": {},
   "outputs": [],
   "source": [
    "print('df.iat[2, 0]')\n",
    "students_df.iat[2, 0]"
   ]
  },
  {
   "cell_type": "markdown",
   "id": "45c39845",
   "metadata": {},
   "source": [
    "### Setting/ Updating data"
   ]
  },
  {
   "cell_type": "markdown",
   "id": "3a1e1eb5",
   "metadata": {},
   "source": [
    "#### let us first update the Data frame index.."
   ]
  },
  {
   "cell_type": "code",
   "execution_count": null,
   "id": "a81c5ba0",
   "metadata": {},
   "outputs": [],
   "source": [
    "print ('df.index = np.arange(10, 17)')\n",
    "students_df.index = list(np.arange(10, 17))\n",
    "students_df"
   ]
  },
  {
   "cell_type": "code",
   "execution_count": null,
   "id": "29c9a9a6",
   "metadata": {},
   "outputs": [],
   "source": [
    "print('df.loc[:13, py-score] = [40, 50, 60, 70]')\n",
    "students_df.loc[:13, 'py-score'] = [40, 50, 60, 70]\n",
    "print('df.loc[14:, py-score] = 0')\n",
    "students_df.loc[14:, 'py-score'] = 0\n",
    "students_df"
   ]
  },
  {
   "cell_type": "code",
   "execution_count": null,
   "id": "3aa310f9",
   "metadata": {},
   "outputs": [],
   "source": [
    "students_df.iloc[:, -1] = np.array([88.0, 79.0, 81.0, 80.0, 68.0, 61.0, 84.0])\n",
    "students_df"
   ]
  },
  {
   "cell_type": "markdown",
   "id": "c889d2ac",
   "metadata": {},
   "source": [
    "### Inserting/deleteing rows"
   ]
  },
  {
   "cell_type": "code",
   "execution_count": null,
   "id": "147de55f",
   "metadata": {},
   "outputs": [],
   "source": [
    "Ronald = pd.Series(data=['Ronald', 'Berlin', 34, 79],\n",
    "                 index=students_df.columns[0:4],name=21)"
   ]
  },
  {
   "cell_type": "code",
   "execution_count": null,
   "id": "e78cdf23",
   "metadata": {},
   "outputs": [],
   "source": [
    "Marcus = pd.Series(data=['Marcus', 'Berlin', 34, 79],\n",
    "                 index=students_df.columns[0:4],name=\"21\")"
   ]
  },
  {
   "cell_type": "code",
   "execution_count": null,
   "id": "d1dc6c93",
   "metadata": {},
   "outputs": [],
   "source": [
    "print('df=df.append(john)')\n",
    "students_df=students_df.append(Ronald)\n",
    "students_df"
   ]
  },
  {
   "cell_type": "code",
   "execution_count": null,
   "id": "c79a2fd6",
   "metadata": {},
   "outputs": [],
   "source": [
    "students_df.index"
   ]
  },
  {
   "cell_type": "code",
   "execution_count": null,
   "id": "1da073e1",
   "metadata": {},
   "outputs": [],
   "source": [
    "#print('df = df.drop(labels=[17])')\n",
    "students_df.drop(labels=[21],inplace=True)\n",
    "students_df"
   ]
  },
  {
   "cell_type": "code",
   "execution_count": null,
   "id": "067be9b9",
   "metadata": {},
   "outputs": [],
   "source": [
    "x=[1,3,4,5,8,9,12,100]"
   ]
  },
  {
   "cell_type": "code",
   "execution_count": null,
   "id": "4ab21fb0",
   "metadata": {},
   "outputs": [],
   "source": [
    "students_df[\"py-score\"]"
   ]
  },
  {
   "cell_type": "code",
   "execution_count": null,
   "id": "214d9416",
   "metadata": {},
   "outputs": [],
   "source": [
    "students_df[students_df[\"py-score\"]<=np.percentile(students_df[\"py-score\"], 25)]"
   ]
  },
  {
   "cell_type": "code",
   "execution_count": null,
   "id": "c66f188a",
   "metadata": {},
   "outputs": [],
   "source": [
    "np.median(np.array(x))"
   ]
  },
  {
   "cell_type": "markdown",
   "id": "c3e25a7e",
   "metadata": {},
   "source": [
    "### Inserting/Deleting columns"
   ]
  },
  {
   "cell_type": "code",
   "execution_count": null,
   "id": "3a8e7ef2",
   "metadata": {},
   "outputs": [],
   "source": [
    "#print('df[js-score] = np.array([71.0, 95.0, 88.0, 79.0, 91.0, 91.0, 80.0])')\n",
    "students_df['js-score'] =np.array([71.0, 95.0, 88.0, 79.0, 91.0, 91.0, 80.0])\n",
    "students_df"
   ]
  },
  {
   "cell_type": "markdown",
   "id": "635b717f",
   "metadata": {},
   "source": [
    "### Inserting in a specific location"
   ]
  },
  {
   "cell_type": "code",
   "execution_count": null,
   "id": "24dcfcc2",
   "metadata": {},
   "outputs": [],
   "source": [
    "#print('df.insert(loc=4, column=js-score,value=np.array([86.0, 81.0, 78.0, 88.0, 74.0, 70.0, 81.0]))')\n",
    "students_df.insert(loc=4, column='ux-score',\n",
    "          value=np.array([70, 74, 78, 56, 66, 78, 81.0]))\n",
    "students_df"
   ]
  },
  {
   "cell_type": "markdown",
   "id": "0f3bc1ae",
   "metadata": {},
   "source": [
    "### dropping specific column"
   ]
  },
  {
   "cell_type": "code",
   "execution_count": null,
   "id": "9b607123",
   "metadata": {},
   "outputs": [],
   "source": [
    "print('df = df.drop(labels=age, axis=1)')\n",
    "students_df = students_df.drop(labels=['ux-score'], axis=1)"
   ]
  },
  {
   "cell_type": "code",
   "execution_count": null,
   "id": "cde0c01c",
   "metadata": {},
   "outputs": [],
   "source": [
    "students_df"
   ]
  },
  {
   "cell_type": "markdown",
   "id": "7a6bd907",
   "metadata": {},
   "source": [
    "### Filtering/Boolean Indexing"
   ]
  },
  {
   "cell_type": "code",
   "execution_count": null,
   "id": "6390c8b3",
   "metadata": {},
   "outputs": [],
   "source": [
    "#print('filter_ = df[django-score] >= 80')\n",
    "very_good_students_filter = students_df['py-score'] >= 50\n",
    "very_good_students_filter"
   ]
  },
  {
   "cell_type": "code",
   "execution_count": null,
   "id": "dbb07262",
   "metadata": {},
   "outputs": [],
   "source": [
    "students_df[very_good_students_filter]"
   ]
  },
  {
   "cell_type": "code",
   "execution_count": null,
   "id": "2d386053",
   "metadata": {},
   "outputs": [],
   "source": [
    "students_df[\"js-score-updated\"]= students_df[\"js-score\"] +5"
   ]
  },
  {
   "cell_type": "code",
   "execution_count": null,
   "id": "1ea184af",
   "metadata": {},
   "outputs": [],
   "source": [
    "students_df.age>40"
   ]
  },
  {
   "cell_type": "code",
   "execution_count": null,
   "id": "000976c0",
   "metadata": {},
   "outputs": [],
   "source": [
    "students_df[students_df.age>40]"
   ]
  },
  {
   "cell_type": "code",
   "execution_count": null,
   "id": "6d9dfe67",
   "metadata": {},
   "outputs": [],
   "source": [
    "print('df[filter_]')\n",
    "students_df[very_good_students_filter]"
   ]
  },
  {
   "cell_type": "markdown",
   "id": "d558b5e9",
   "metadata": {},
   "source": [
    "### Creating powerful filters with Logical operators AND, OR, NOT, XOR"
   ]
  },
  {
   "cell_type": "code",
   "execution_count": null,
   "id": "a7550f9f",
   "metadata": {},
   "outputs": [],
   "source": [
    "#print('df[(df[py-score] >= 80) & (df[js-score] >= 80)]')\n",
    "students_df[(students_df['py-score'] >= 40) & (students_df['js-score'] >= 80)]"
   ]
  },
  {
   "cell_type": "markdown",
   "id": "8e0ee04b",
   "metadata": {},
   "source": [
    "### Working with Missing Data"
   ]
  },
  {
   "cell_type": "markdown",
   "id": "239b4c30",
   "metadata": {},
   "source": [
    "### np.nan is used to represent missing values"
   ]
  },
  {
   "cell_type": "code",
   "execution_count": null,
   "id": "8a8f29d1",
   "metadata": {},
   "outputs": [],
   "source": [
    "print(\"df_ = pd.DataFrame({'x': [1, 2, np.nan, 4]})\")\n",
    "df_ = pd.DataFrame({'x': [1, 2, np.nan, 4]})\n",
    "df_"
   ]
  },
  {
   "cell_type": "code",
   "execution_count": null,
   "id": "f6630a9e",
   "metadata": {},
   "outputs": [],
   "source": [
    "df_[\"y\"]=[2,np.nan,4,5]\n",
    "df_"
   ]
  },
  {
   "cell_type": "markdown",
   "id": "39c7e434",
   "metadata": {},
   "source": [
    "### Dropping rows that contains missing values "
   ]
  },
  {
   "cell_type": "code",
   "execution_count": null,
   "id": "b2012401",
   "metadata": {},
   "outputs": [],
   "source": [
    "#print(\"df_.dropna()\")\n",
    "df_.dropna()\n",
    "df_"
   ]
  },
  {
   "cell_type": "markdown",
   "id": "08c2ae46",
   "metadata": {},
   "source": [
    "### and you can fill the missing values with fillna.."
   ]
  },
  {
   "cell_type": "code",
   "execution_count": null,
   "id": "22dbc112",
   "metadata": {},
   "outputs": [],
   "source": [
    "df_.mean()"
   ]
  },
  {
   "cell_type": "code",
   "execution_count": null,
   "id": "56dd0c4f",
   "metadata": {},
   "outputs": [],
   "source": [
    "df_ = pd.DataFrame({'x': [1, 2, np.nan, 4]})\n",
    "print('df_.fillna(value=0)\\n',df_.fillna(value=0))\n",
    "print(\"\\ndf_.fillna(method=ffill)\\n\",df_.fillna(method='ffill'))\n",
    "print(\"\\ndf_.fillna(method=bfill)\\n\",df_.fillna(method='bfill'))"
   ]
  },
  {
   "cell_type": "markdown",
   "id": "a34f7251",
   "metadata": {},
   "source": [
    "### Applying functions"
   ]
  },
  {
   "cell_type": "markdown",
   "id": "619fe012",
   "metadata": {},
   "source": [
    "### Applying Arithmetic functions"
   ]
  },
  {
   "cell_type": "code",
   "execution_count": 94,
   "id": "2befdd75",
   "metadata": {},
   "outputs": [
    {
     "data": {
      "text/html": [
       "<div>\n",
       "<style scoped>\n",
       "    .dataframe tbody tr th:only-of-type {\n",
       "        vertical-align: middle;\n",
       "    }\n",
       "\n",
       "    .dataframe tbody tr th {\n",
       "        vertical-align: top;\n",
       "    }\n",
       "\n",
       "    .dataframe thead th {\n",
       "        text-align: right;\n",
       "    }\n",
       "</style>\n",
       "<table border=\"1\" class=\"dataframe\">\n",
       "  <thead>\n",
       "    <tr style=\"text-align: right;\">\n",
       "      <th></th>\n",
       "      <th>name</th>\n",
       "      <th>city</th>\n",
       "      <th>age</th>\n",
       "      <th>py-score</th>\n",
       "      <th>js-score</th>\n",
       "      <th>js-score-updated</th>\n",
       "      <th>total</th>\n",
       "    </tr>\n",
       "  </thead>\n",
       "  <tbody>\n",
       "    <tr>\n",
       "      <th>10</th>\n",
       "      <td>Xavier</td>\n",
       "      <td>Mexico City</td>\n",
       "      <td>41</td>\n",
       "      <td>88.0</td>\n",
       "      <td>71.0</td>\n",
       "      <td>76.0</td>\n",
       "      <td>56.5</td>\n",
       "    </tr>\n",
       "    <tr>\n",
       "      <th>11</th>\n",
       "      <td>Ann</td>\n",
       "      <td>Toronto</td>\n",
       "      <td>28</td>\n",
       "      <td>79.0</td>\n",
       "      <td>95.0</td>\n",
       "      <td>100.0</td>\n",
       "      <td>60.1</td>\n",
       "    </tr>\n",
       "    <tr>\n",
       "      <th>12</th>\n",
       "      <td>Jana</td>\n",
       "      <td>Prague</td>\n",
       "      <td>33</td>\n",
       "      <td>81.0</td>\n",
       "      <td>88.0</td>\n",
       "      <td>93.0</td>\n",
       "      <td>58.8</td>\n",
       "    </tr>\n",
       "    <tr>\n",
       "      <th>13</th>\n",
       "      <td>Yi</td>\n",
       "      <td>Shanghai</td>\n",
       "      <td>34</td>\n",
       "      <td>80.0</td>\n",
       "      <td>79.0</td>\n",
       "      <td>84.0</td>\n",
       "      <td>55.7</td>\n",
       "    </tr>\n",
       "    <tr>\n",
       "      <th>14</th>\n",
       "      <td>Robin</td>\n",
       "      <td>Manchester</td>\n",
       "      <td>38</td>\n",
       "      <td>68.0</td>\n",
       "      <td>91.0</td>\n",
       "      <td>96.0</td>\n",
       "      <td>54.5</td>\n",
       "    </tr>\n",
       "    <tr>\n",
       "      <th>15</th>\n",
       "      <td>Amal</td>\n",
       "      <td>Cairo</td>\n",
       "      <td>31</td>\n",
       "      <td>61.0</td>\n",
       "      <td>91.0</td>\n",
       "      <td>96.0</td>\n",
       "      <td>51.7</td>\n",
       "    </tr>\n",
       "    <tr>\n",
       "      <th>16</th>\n",
       "      <td>Nori</td>\n",
       "      <td>Osaka</td>\n",
       "      <td>37</td>\n",
       "      <td>84.0</td>\n",
       "      <td>80.0</td>\n",
       "      <td>85.0</td>\n",
       "      <td>57.6</td>\n",
       "    </tr>\n",
       "  </tbody>\n",
       "</table>\n",
       "</div>"
      ],
      "text/plain": [
       "      name         city  age  py-score  js-score  js-score-updated  total\n",
       "10  Xavier  Mexico City   41      88.0      71.0              76.0   56.5\n",
       "11     Ann      Toronto   28      79.0      95.0             100.0   60.1\n",
       "12    Jana       Prague   33      81.0      88.0              93.0   58.8\n",
       "13      Yi     Shanghai   34      80.0      79.0              84.0   55.7\n",
       "14   Robin   Manchester   38      68.0      91.0              96.0   54.5\n",
       "15    Amal        Cairo   31      61.0      91.0              96.0   51.7\n",
       "16    Nori        Osaka   37      84.0      80.0              85.0   57.6"
      ]
     },
     "execution_count": 94,
     "metadata": {},
     "output_type": "execute_result"
    }
   ],
   "source": [
    "students_df"
   ]
  },
  {
   "cell_type": "code",
   "execution_count": 98,
   "id": "1e6581f2",
   "metadata": {},
   "outputs": [
    {
     "ename": "SyntaxError",
     "evalue": "invalid syntax (1354730334.py, line 2)",
     "output_type": "error",
     "traceback": [
      "\u001b[0;36m  File \u001b[0;32m\"/var/folders/gh/s8b9pd096y13z1bxsq63d0x40000gn/T/ipykernel_9852/1354730334.py\"\u001b[0;36m, line \u001b[0;32m2\u001b[0m\n\u001b[0;31m    students_df['total'] =\u001b[0m\n\u001b[0m                          ^\u001b[0m\n\u001b[0;31mSyntaxError\u001b[0m\u001b[0;31m:\u001b[0m invalid syntax\n"
     ]
    }
   ],
   "source": [
    "## adding computed column , feature engineering \n",
    "students_df['total'] =\\\n",
    "0.4 * students_df['py-score'] + 0.3 * students_df['js-score']\n",
    "students_df\n"
   ]
  },
  {
   "cell_type": "code",
   "execution_count": 96,
   "id": "1c9b41df",
   "metadata": {},
   "outputs": [
    {
     "data": {
      "text/html": [
       "<div>\n",
       "<style scoped>\n",
       "    .dataframe tbody tr th:only-of-type {\n",
       "        vertical-align: middle;\n",
       "    }\n",
       "\n",
       "    .dataframe tbody tr th {\n",
       "        vertical-align: top;\n",
       "    }\n",
       "\n",
       "    .dataframe thead th {\n",
       "        text-align: right;\n",
       "    }\n",
       "</style>\n",
       "<table border=\"1\" class=\"dataframe\">\n",
       "  <thead>\n",
       "    <tr style=\"text-align: right;\">\n",
       "      <th></th>\n",
       "      <th>py-score</th>\n",
       "      <th>js-score</th>\n",
       "    </tr>\n",
       "  </thead>\n",
       "  <tbody>\n",
       "    <tr>\n",
       "      <th>10</th>\n",
       "      <td>88.0</td>\n",
       "      <td>71.0</td>\n",
       "    </tr>\n",
       "    <tr>\n",
       "      <th>11</th>\n",
       "      <td>79.0</td>\n",
       "      <td>95.0</td>\n",
       "    </tr>\n",
       "    <tr>\n",
       "      <th>12</th>\n",
       "      <td>81.0</td>\n",
       "      <td>88.0</td>\n",
       "    </tr>\n",
       "    <tr>\n",
       "      <th>13</th>\n",
       "      <td>80.0</td>\n",
       "      <td>79.0</td>\n",
       "    </tr>\n",
       "    <tr>\n",
       "      <th>14</th>\n",
       "      <td>68.0</td>\n",
       "      <td>91.0</td>\n",
       "    </tr>\n",
       "    <tr>\n",
       "      <th>15</th>\n",
       "      <td>61.0</td>\n",
       "      <td>91.0</td>\n",
       "    </tr>\n",
       "    <tr>\n",
       "      <th>16</th>\n",
       "      <td>84.0</td>\n",
       "      <td>80.0</td>\n",
       "    </tr>\n",
       "  </tbody>\n",
       "</table>\n",
       "</div>"
      ],
      "text/plain": [
       "    py-score  js-score\n",
       "10      88.0      71.0\n",
       "11      79.0      95.0\n",
       "12      81.0      88.0\n",
       "13      80.0      79.0\n",
       "14      68.0      91.0\n",
       "15      61.0      91.0\n",
       "16      84.0      80.0"
      ]
     },
     "execution_count": 96,
     "metadata": {},
     "output_type": "execute_result"
    }
   ],
   "source": [
    "students_df.iloc[:, 3:5]"
   ]
  },
  {
   "cell_type": "markdown",
   "id": "8d0d60ec",
   "metadata": {},
   "source": [
    "### using existing NumPy funnction instead of writing your own function"
   ]
  },
  {
   "cell_type": "code",
   "execution_count": 99,
   "id": "72b5cd1c",
   "metadata": {},
   "outputs": [
    {
     "data": {
      "text/plain": [
       "array([80.71428571, 85.85714286, 84.        , 79.57142857, 77.85714286,\n",
       "       73.85714286, 82.28571429])"
      ]
     },
     "execution_count": 99,
     "metadata": {},
     "output_type": "execute_result"
    }
   ],
   "source": [
    "np.average(students_df.iloc[:, 3:5], axis=1,\n",
    "                         weights=[0.4, 0.3])"
   ]
  },
  {
   "cell_type": "code",
   "execution_count": null,
   "id": "be3284a7",
   "metadata": {},
   "outputs": [],
   "source": [
    "##del students_df['total']\n",
    "\n",
    "#print(\"students_df['total'] = np.average(students_df.iloc[:, 2:5], axis=1,weights=[0.4, 0.3, 0.3])\")\n",
    "students_df['total'] = 50\n",
    "students_df"
   ]
  },
  {
   "cell_type": "code",
   "execution_count": null,
   "id": "aacd1a00",
   "metadata": {},
   "outputs": [],
   "source": [
    "students_df"
   ]
  },
  {
   "cell_type": "markdown",
   "id": "9ecdf6cb",
   "metadata": {},
   "source": [
    "## Map function with Lambda"
   ]
  },
  {
   "cell_type": "code",
   "execution_count": 100,
   "id": "72e3763e",
   "metadata": {
    "scrolled": true
   },
   "outputs": [
    {
     "data": {
      "text/plain": [
       "[98.0, 89.0, 91.0, 90.0, 78.0, 71.0, 94.0]"
      ]
     },
     "execution_count": 100,
     "metadata": {},
     "output_type": "execute_result"
    }
   ],
   "source": [
    "list(map(lambda x:x+10,students_df[\"py-score\"]))"
   ]
  },
  {
   "cell_type": "markdown",
   "id": "0dfd456b",
   "metadata": {},
   "source": [
    "### Categorical Variables"
   ]
  },
  {
   "cell_type": "code",
   "execution_count": 118,
   "id": "b7e4751d",
   "metadata": {
    "scrolled": true
   },
   "outputs": [
    {
     "name": "stdout",
     "output_type": "stream",
     "text": [
      "let us take this Data Frame...\n"
     ]
    },
    {
     "data": {
      "text/html": [
       "<div>\n",
       "<style scoped>\n",
       "    .dataframe tbody tr th:only-of-type {\n",
       "        vertical-align: middle;\n",
       "    }\n",
       "\n",
       "    .dataframe tbody tr th {\n",
       "        vertical-align: top;\n",
       "    }\n",
       "\n",
       "    .dataframe thead th {\n",
       "        text-align: right;\n",
       "    }\n",
       "</style>\n",
       "<table border=\"1\" class=\"dataframe\">\n",
       "  <thead>\n",
       "    <tr style=\"text-align: right;\">\n",
       "      <th></th>\n",
       "      <th>id</th>\n",
       "      <th>raw_grade</th>\n",
       "    </tr>\n",
       "  </thead>\n",
       "  <tbody>\n",
       "    <tr>\n",
       "      <th>0</th>\n",
       "      <td>1</td>\n",
       "      <td>a</td>\n",
       "    </tr>\n",
       "    <tr>\n",
       "      <th>1</th>\n",
       "      <td>2</td>\n",
       "      <td>b</td>\n",
       "    </tr>\n",
       "    <tr>\n",
       "      <th>2</th>\n",
       "      <td>3</td>\n",
       "      <td>b</td>\n",
       "    </tr>\n",
       "    <tr>\n",
       "      <th>3</th>\n",
       "      <td>4</td>\n",
       "      <td>a</td>\n",
       "    </tr>\n",
       "    <tr>\n",
       "      <th>4</th>\n",
       "      <td>5</td>\n",
       "      <td>a</td>\n",
       "    </tr>\n",
       "    <tr>\n",
       "      <th>5</th>\n",
       "      <td>6</td>\n",
       "      <td>e</td>\n",
       "    </tr>\n",
       "  </tbody>\n",
       "</table>\n",
       "</div>"
      ],
      "text/plain": [
       "   id raw_grade\n",
       "0   1         a\n",
       "1   2         b\n",
       "2   3         b\n",
       "3   4         a\n",
       "4   5         a\n",
       "5   6         e"
      ]
     },
     "execution_count": 118,
     "metadata": {},
     "output_type": "execute_result"
    }
   ],
   "source": [
    "print(\"let us take this Data Frame...\")\n",
    "df = pd.DataFrame(\n",
    "  {\"id\": [1, 2, 3, 4, 5, 6], \"raw_grade\": [\"a\", \"b\", \"b\", \"a\", \"a\", \"e\"]}\n",
    ")\n",
    "df"
   ]
  },
  {
   "cell_type": "code",
   "execution_count": 119,
   "id": "9a2e7e9f",
   "metadata": {},
   "outputs": [
    {
     "data": {
      "text/html": [
       "<div>\n",
       "<style scoped>\n",
       "    .dataframe tbody tr th:only-of-type {\n",
       "        vertical-align: middle;\n",
       "    }\n",
       "\n",
       "    .dataframe tbody tr th {\n",
       "        vertical-align: top;\n",
       "    }\n",
       "\n",
       "    .dataframe thead th {\n",
       "        text-align: right;\n",
       "    }\n",
       "</style>\n",
       "<table border=\"1\" class=\"dataframe\">\n",
       "  <thead>\n",
       "    <tr style=\"text-align: right;\">\n",
       "      <th></th>\n",
       "      <th>id</th>\n",
       "      <th>raw_grade</th>\n",
       "    </tr>\n",
       "  </thead>\n",
       "  <tbody>\n",
       "    <tr>\n",
       "      <th>0</th>\n",
       "      <td>1</td>\n",
       "      <td>a</td>\n",
       "    </tr>\n",
       "    <tr>\n",
       "      <th>1</th>\n",
       "      <td>2</td>\n",
       "      <td>b</td>\n",
       "    </tr>\n",
       "    <tr>\n",
       "      <th>2</th>\n",
       "      <td>3</td>\n",
       "      <td>b</td>\n",
       "    </tr>\n",
       "    <tr>\n",
       "      <th>3</th>\n",
       "      <td>4</td>\n",
       "      <td>a</td>\n",
       "    </tr>\n",
       "    <tr>\n",
       "      <th>4</th>\n",
       "      <td>5</td>\n",
       "      <td>a</td>\n",
       "    </tr>\n",
       "    <tr>\n",
       "      <th>5</th>\n",
       "      <td>6</td>\n",
       "      <td>e</td>\n",
       "    </tr>\n",
       "  </tbody>\n",
       "</table>\n",
       "</div>"
      ],
      "text/plain": [
       "   id raw_grade\n",
       "0   1         a\n",
       "1   2         b\n",
       "2   3         b\n",
       "3   4         a\n",
       "4   5         a\n",
       "5   6         e"
      ]
     },
     "execution_count": 119,
     "metadata": {},
     "output_type": "execute_result"
    }
   ],
   "source": [
    "df"
   ]
  },
  {
   "cell_type": "code",
   "execution_count": 120,
   "id": "7aa69b6c",
   "metadata": {},
   "outputs": [
    {
     "data": {
      "text/plain": [
       "0    a\n",
       "1    b\n",
       "2    b\n",
       "3    a\n",
       "4    a\n",
       "5    e\n",
       "Name: grade, dtype: category\n",
       "Categories (3, object): ['a', 'b', 'e']"
      ]
     },
     "execution_count": 120,
     "metadata": {},
     "output_type": "execute_result"
    }
   ],
   "source": [
    "#print(\"Let us convert it to a categorical variable...\\n\\ndf[grade] = df[raw_grade].astype(category)\")\n",
    "df[\"grade\"] = df[\"raw_grade\"].astype(\"category\")\n",
    "df[\"grade\"]"
   ]
  },
  {
   "cell_type": "code",
   "execution_count": 121,
   "id": "c4ed4cce",
   "metadata": {},
   "outputs": [
    {
     "data": {
      "text/html": [
       "<div>\n",
       "<style scoped>\n",
       "    .dataframe tbody tr th:only-of-type {\n",
       "        vertical-align: middle;\n",
       "    }\n",
       "\n",
       "    .dataframe tbody tr th {\n",
       "        vertical-align: top;\n",
       "    }\n",
       "\n",
       "    .dataframe thead th {\n",
       "        text-align: right;\n",
       "    }\n",
       "</style>\n",
       "<table border=\"1\" class=\"dataframe\">\n",
       "  <thead>\n",
       "    <tr style=\"text-align: right;\">\n",
       "      <th></th>\n",
       "      <th>id</th>\n",
       "      <th>raw_grade</th>\n",
       "      <th>grade</th>\n",
       "    </tr>\n",
       "  </thead>\n",
       "  <tbody>\n",
       "    <tr>\n",
       "      <th>0</th>\n",
       "      <td>1</td>\n",
       "      <td>a</td>\n",
       "      <td>a</td>\n",
       "    </tr>\n",
       "    <tr>\n",
       "      <th>1</th>\n",
       "      <td>2</td>\n",
       "      <td>b</td>\n",
       "      <td>b</td>\n",
       "    </tr>\n",
       "    <tr>\n",
       "      <th>2</th>\n",
       "      <td>3</td>\n",
       "      <td>b</td>\n",
       "      <td>b</td>\n",
       "    </tr>\n",
       "    <tr>\n",
       "      <th>3</th>\n",
       "      <td>4</td>\n",
       "      <td>a</td>\n",
       "      <td>a</td>\n",
       "    </tr>\n",
       "    <tr>\n",
       "      <th>4</th>\n",
       "      <td>5</td>\n",
       "      <td>a</td>\n",
       "      <td>a</td>\n",
       "    </tr>\n",
       "    <tr>\n",
       "      <th>5</th>\n",
       "      <td>6</td>\n",
       "      <td>e</td>\n",
       "      <td>e</td>\n",
       "    </tr>\n",
       "  </tbody>\n",
       "</table>\n",
       "</div>"
      ],
      "text/plain": [
       "   id raw_grade grade\n",
       "0   1         a     a\n",
       "1   2         b     b\n",
       "2   3         b     b\n",
       "3   4         a     a\n",
       "4   5         a     a\n",
       "5   6         e     e"
      ]
     },
     "execution_count": 121,
     "metadata": {},
     "output_type": "execute_result"
    }
   ],
   "source": [
    "df"
   ]
  },
  {
   "cell_type": "code",
   "execution_count": 122,
   "id": "13deccbd",
   "metadata": {},
   "outputs": [
    {
     "data": {
      "text/plain": [
       "Index(['a', 'b', 'e'], dtype='object')"
      ]
     },
     "execution_count": 122,
     "metadata": {},
     "output_type": "execute_result"
    }
   ],
   "source": [
    "df[\"grade\"].cat.categories"
   ]
  },
  {
   "cell_type": "code",
   "execution_count": 123,
   "id": "4e813467",
   "metadata": {},
   "outputs": [
    {
     "name": "stdout",
     "output_type": "stream",
     "text": [
      "df[\"grade\"].cat.categories = [\"very good\", \"good\", \"very bad\"]\n"
     ]
    }
   ],
   "source": [
    "print('df[\"grade\"].cat.categories = [\"very good\", \"good\", \"very bad\"]')\n",
    "df[\"grade\"].cat.categories = [\"very good\", \"good\", \"very bad\"]"
   ]
  },
  {
   "cell_type": "code",
   "execution_count": 124,
   "id": "a15bcead",
   "metadata": {},
   "outputs": [
    {
     "data": {
      "text/html": [
       "<div>\n",
       "<style scoped>\n",
       "    .dataframe tbody tr th:only-of-type {\n",
       "        vertical-align: middle;\n",
       "    }\n",
       "\n",
       "    .dataframe tbody tr th {\n",
       "        vertical-align: top;\n",
       "    }\n",
       "\n",
       "    .dataframe thead th {\n",
       "        text-align: right;\n",
       "    }\n",
       "</style>\n",
       "<table border=\"1\" class=\"dataframe\">\n",
       "  <thead>\n",
       "    <tr style=\"text-align: right;\">\n",
       "      <th></th>\n",
       "      <th>id</th>\n",
       "      <th>raw_grade</th>\n",
       "      <th>grade</th>\n",
       "    </tr>\n",
       "  </thead>\n",
       "  <tbody>\n",
       "    <tr>\n",
       "      <th>0</th>\n",
       "      <td>1</td>\n",
       "      <td>a</td>\n",
       "      <td>very good</td>\n",
       "    </tr>\n",
       "    <tr>\n",
       "      <th>1</th>\n",
       "      <td>2</td>\n",
       "      <td>b</td>\n",
       "      <td>good</td>\n",
       "    </tr>\n",
       "    <tr>\n",
       "      <th>2</th>\n",
       "      <td>3</td>\n",
       "      <td>b</td>\n",
       "      <td>good</td>\n",
       "    </tr>\n",
       "    <tr>\n",
       "      <th>3</th>\n",
       "      <td>4</td>\n",
       "      <td>a</td>\n",
       "      <td>very good</td>\n",
       "    </tr>\n",
       "    <tr>\n",
       "      <th>4</th>\n",
       "      <td>5</td>\n",
       "      <td>a</td>\n",
       "      <td>very good</td>\n",
       "    </tr>\n",
       "    <tr>\n",
       "      <th>5</th>\n",
       "      <td>6</td>\n",
       "      <td>e</td>\n",
       "      <td>very bad</td>\n",
       "    </tr>\n",
       "  </tbody>\n",
       "</table>\n",
       "</div>"
      ],
      "text/plain": [
       "   id raw_grade      grade\n",
       "0   1         a  very good\n",
       "1   2         b       good\n",
       "2   3         b       good\n",
       "3   4         a  very good\n",
       "4   5         a  very good\n",
       "5   6         e   very bad"
      ]
     },
     "execution_count": 124,
     "metadata": {},
     "output_type": "execute_result"
    }
   ],
   "source": [
    "df"
   ]
  },
  {
   "cell_type": "code",
   "execution_count": 125,
   "id": "265ec58e",
   "metadata": {},
   "outputs": [
    {
     "name": "stdout",
     "output_type": "stream",
     "text": [
      "Injecting new categories...\n",
      "df[\"grade\"] = df[\"grade\"].cat.set_categories([\"very bad\", \"bad\", \"medium\", \"good\", \"very good\"])\n"
     ]
    },
    {
     "data": {
      "text/plain": [
       "0    very good\n",
       "1         good\n",
       "2         good\n",
       "3    very good\n",
       "4    very good\n",
       "5     very bad\n",
       "Name: grade, dtype: category\n",
       "Categories (4, object): ['very good', 'good', 'bad', 'very bad']"
      ]
     },
     "execution_count": 125,
     "metadata": {},
     "output_type": "execute_result"
    }
   ],
   "source": [
    "print('Injecting new categories...\\ndf[\"grade\"] = df[\"grade\"].cat.set_categories([\"very bad\", \"bad\", \"medium\", \"good\", \"very good\"])')\n",
    "\n",
    "df[\"grade\"] = df[\"grade\"].cat.set_categories(\n",
    "       [\"very good\", \"good\", \"bad\",\"very bad\"]\n",
    "    )\n",
    "df[\"grade\"]"
   ]
  },
  {
   "cell_type": "code",
   "execution_count": 115,
   "id": "4d16cd1e",
   "metadata": {},
   "outputs": [
    {
     "name": "stdout",
     "output_type": "stream",
     "text": [
      "df.sort_values(by=\"grade\")\n"
     ]
    },
    {
     "data": {
      "text/html": [
       "<div>\n",
       "<style scoped>\n",
       "    .dataframe tbody tr th:only-of-type {\n",
       "        vertical-align: middle;\n",
       "    }\n",
       "\n",
       "    .dataframe tbody tr th {\n",
       "        vertical-align: top;\n",
       "    }\n",
       "\n",
       "    .dataframe thead th {\n",
       "        text-align: right;\n",
       "    }\n",
       "</style>\n",
       "<table border=\"1\" class=\"dataframe\">\n",
       "  <thead>\n",
       "    <tr style=\"text-align: right;\">\n",
       "      <th></th>\n",
       "      <th>id</th>\n",
       "      <th>raw_grade</th>\n",
       "      <th>grade</th>\n",
       "    </tr>\n",
       "  </thead>\n",
       "  <tbody>\n",
       "    <tr>\n",
       "      <th>0</th>\n",
       "      <td>1</td>\n",
       "      <td>a</td>\n",
       "      <td>NaN</td>\n",
       "    </tr>\n",
       "    <tr>\n",
       "      <th>1</th>\n",
       "      <td>2</td>\n",
       "      <td>b</td>\n",
       "      <td>NaN</td>\n",
       "    </tr>\n",
       "    <tr>\n",
       "      <th>2</th>\n",
       "      <td>3</td>\n",
       "      <td>b</td>\n",
       "      <td>NaN</td>\n",
       "    </tr>\n",
       "    <tr>\n",
       "      <th>3</th>\n",
       "      <td>4</td>\n",
       "      <td>a</td>\n",
       "      <td>NaN</td>\n",
       "    </tr>\n",
       "    <tr>\n",
       "      <th>4</th>\n",
       "      <td>5</td>\n",
       "      <td>a</td>\n",
       "      <td>NaN</td>\n",
       "    </tr>\n",
       "    <tr>\n",
       "      <th>5</th>\n",
       "      <td>6</td>\n",
       "      <td>e</td>\n",
       "      <td>NaN</td>\n",
       "    </tr>\n",
       "  </tbody>\n",
       "</table>\n",
       "</div>"
      ],
      "text/plain": [
       "   id raw_grade grade\n",
       "0   1         a   NaN\n",
       "1   2         b   NaN\n",
       "2   3         b   NaN\n",
       "3   4         a   NaN\n",
       "4   5         a   NaN\n",
       "5   6         e   NaN"
      ]
     },
     "execution_count": 115,
     "metadata": {},
     "output_type": "execute_result"
    }
   ],
   "source": [
    "print('df.sort_values(by=\"grade\")')\n",
    "df.sort_values(by=\"grade\")"
   ]
  },
  {
   "cell_type": "markdown",
   "id": "7198d670",
   "metadata": {},
   "source": [
    "### dummy variables\n",
    "- dummy variables are binary variables that represents the values that categorical variables hold. \n",
    "- It is effecient representation for programming, preprocessing, analysing and ML tasks purposes."
   ]
  },
  {
   "cell_type": "markdown",
   "id": "1b744ac3",
   "metadata": {},
   "source": [
    "#### Here is an example..."
   ]
  },
  {
   "cell_type": "code",
   "execution_count": 126,
   "id": "846ed101",
   "metadata": {},
   "outputs": [
    {
     "data": {
      "text/html": [
       "<div>\n",
       "<style scoped>\n",
       "    .dataframe tbody tr th:only-of-type {\n",
       "        vertical-align: middle;\n",
       "    }\n",
       "\n",
       "    .dataframe tbody tr th {\n",
       "        vertical-align: top;\n",
       "    }\n",
       "\n",
       "    .dataframe thead th {\n",
       "        text-align: right;\n",
       "    }\n",
       "</style>\n",
       "<table border=\"1\" class=\"dataframe\">\n",
       "  <thead>\n",
       "    <tr style=\"text-align: right;\">\n",
       "      <th></th>\n",
       "      <th>A</th>\n",
       "      <th>B</th>\n",
       "      <th>C</th>\n",
       "    </tr>\n",
       "  </thead>\n",
       "  <tbody>\n",
       "    <tr>\n",
       "      <th>0</th>\n",
       "      <td>a</td>\n",
       "      <td>b</td>\n",
       "      <td>1</td>\n",
       "    </tr>\n",
       "    <tr>\n",
       "      <th>1</th>\n",
       "      <td>b</td>\n",
       "      <td>a</td>\n",
       "      <td>2</td>\n",
       "    </tr>\n",
       "    <tr>\n",
       "      <th>2</th>\n",
       "      <td>a</td>\n",
       "      <td>c</td>\n",
       "      <td>3</td>\n",
       "    </tr>\n",
       "  </tbody>\n",
       "</table>\n",
       "</div>"
      ],
      "text/plain": [
       "   A  B  C\n",
       "0  a  b  1\n",
       "1  b  a  2\n",
       "2  a  c  3"
      ]
     },
     "execution_count": 126,
     "metadata": {},
     "output_type": "execute_result"
    }
   ],
   "source": [
    "df = pd.DataFrame({'A': ['a', 'b', 'a'], 'B': ['b', 'a', 'c'],\n",
    "                   'C': [1, 2, 3]})\n",
    "df"
   ]
  },
  {
   "cell_type": "code",
   "execution_count": 127,
   "id": "e62dd569",
   "metadata": {},
   "outputs": [
    {
     "name": "stdout",
     "output_type": "stream",
     "text": [
      "pd.get_dummies(df, prefix=['col1', 'col2'])\n"
     ]
    },
    {
     "data": {
      "text/html": [
       "<div>\n",
       "<style scoped>\n",
       "    .dataframe tbody tr th:only-of-type {\n",
       "        vertical-align: middle;\n",
       "    }\n",
       "\n",
       "    .dataframe tbody tr th {\n",
       "        vertical-align: top;\n",
       "    }\n",
       "\n",
       "    .dataframe thead th {\n",
       "        text-align: right;\n",
       "    }\n",
       "</style>\n",
       "<table border=\"1\" class=\"dataframe\">\n",
       "  <thead>\n",
       "    <tr style=\"text-align: right;\">\n",
       "      <th></th>\n",
       "      <th>C</th>\n",
       "      <th>col1_a</th>\n",
       "      <th>col1_b</th>\n",
       "      <th>col2_a</th>\n",
       "      <th>col2_b</th>\n",
       "      <th>col2_c</th>\n",
       "    </tr>\n",
       "  </thead>\n",
       "  <tbody>\n",
       "    <tr>\n",
       "      <th>0</th>\n",
       "      <td>1</td>\n",
       "      <td>1</td>\n",
       "      <td>0</td>\n",
       "      <td>0</td>\n",
       "      <td>1</td>\n",
       "      <td>0</td>\n",
       "    </tr>\n",
       "    <tr>\n",
       "      <th>1</th>\n",
       "      <td>2</td>\n",
       "      <td>0</td>\n",
       "      <td>1</td>\n",
       "      <td>1</td>\n",
       "      <td>0</td>\n",
       "      <td>0</td>\n",
       "    </tr>\n",
       "    <tr>\n",
       "      <th>2</th>\n",
       "      <td>3</td>\n",
       "      <td>1</td>\n",
       "      <td>0</td>\n",
       "      <td>0</td>\n",
       "      <td>0</td>\n",
       "      <td>1</td>\n",
       "    </tr>\n",
       "  </tbody>\n",
       "</table>\n",
       "</div>"
      ],
      "text/plain": [
       "   C  col1_a  col1_b  col2_a  col2_b  col2_c\n",
       "0  1       1       0       0       1       0\n",
       "1  2       0       1       1       0       0\n",
       "2  3       1       0       0       0       1"
      ]
     },
     "execution_count": 127,
     "metadata": {},
     "output_type": "execute_result"
    }
   ],
   "source": [
    "print(\"pd.get_dummies(df, prefix=['col1', 'col2'])\")\n",
    "pd.get_dummies(df, prefix=['col1', 'col2'])"
   ]
  },
  {
   "cell_type": "markdown",
   "id": "db9f5faf",
   "metadata": {},
   "source": [
    "### Concatinating\n",
    "- concat mutilpe data frames on the same axis.\n",
    "- pd.concat()"
   ]
  },
  {
   "cell_type": "code",
   "execution_count": 129,
   "id": "a9ff1b23",
   "metadata": {},
   "outputs": [
    {
     "data": {
      "image/png": "[encoded data removed]",
      "text/plain": [
       "<IPython.core.display.Image object>"
      ]
     },
     "execution_count": 129,
     "metadata": {},
     "output_type": "execute_result"
    }
   ],
   "source": [
    "Image(\"res/merging_concat_dict_keys.png\")"
   ]
  },
  {
   "cell_type": "markdown",
   "id": "803e1055",
   "metadata": {},
   "source": [
    "source:pandas.pydata.org"
   ]
  },
  {
   "cell_type": "code",
   "execution_count": 136,
   "id": "a3dde786",
   "metadata": {},
   "outputs": [
    {
     "data": {
      "text/html": [
       "<div>\n",
       "<style scoped>\n",
       "    .dataframe tbody tr th:only-of-type {\n",
       "        vertical-align: middle;\n",
       "    }\n",
       "\n",
       "    .dataframe tbody tr th {\n",
       "        vertical-align: top;\n",
       "    }\n",
       "\n",
       "    .dataframe thead th {\n",
       "        text-align: right;\n",
       "    }\n",
       "</style>\n",
       "<table border=\"1\" class=\"dataframe\">\n",
       "  <thead>\n",
       "    <tr style=\"text-align: right;\">\n",
       "      <th></th>\n",
       "      <th>0</th>\n",
       "      <th>1</th>\n",
       "      <th>2</th>\n",
       "      <th>3</th>\n",
       "    </tr>\n",
       "  </thead>\n",
       "  <tbody>\n",
       "    <tr>\n",
       "      <th>0</th>\n",
       "      <td>-0.992258</td>\n",
       "      <td>1.011285</td>\n",
       "      <td>1.400440</td>\n",
       "      <td>-0.654992</td>\n",
       "    </tr>\n",
       "    <tr>\n",
       "      <th>1</th>\n",
       "      <td>-0.255791</td>\n",
       "      <td>-0.714386</td>\n",
       "      <td>-0.500839</td>\n",
       "      <td>0.055645</td>\n",
       "    </tr>\n",
       "  </tbody>\n",
       "</table>\n",
       "</div>"
      ],
      "text/plain": [
       "          0         1         2         3\n",
       "0 -0.992258  1.011285  1.400440 -0.654992\n",
       "1 -0.255791 -0.714386 -0.500839  0.055645"
      ]
     },
     "execution_count": 136,
     "metadata": {},
     "output_type": "execute_result"
    }
   ],
   "source": [
    "first_fg= df[:2]"
   ]
  },
  {
   "cell_type": "code",
   "execution_count": 137,
   "id": "cc7fa40c",
   "metadata": {},
   "outputs": [
    {
     "data": {
      "text/html": [
       "<div>\n",
       "<style scoped>\n",
       "    .dataframe tbody tr th:only-of-type {\n",
       "        vertical-align: middle;\n",
       "    }\n",
       "\n",
       "    .dataframe tbody tr th {\n",
       "        vertical-align: top;\n",
       "    }\n",
       "\n",
       "    .dataframe thead th {\n",
       "        text-align: right;\n",
       "    }\n",
       "</style>\n",
       "<table border=\"1\" class=\"dataframe\">\n",
       "  <thead>\n",
       "    <tr style=\"text-align: right;\">\n",
       "      <th></th>\n",
       "      <th>0</th>\n",
       "      <th>1</th>\n",
       "      <th>2</th>\n",
       "      <th>3</th>\n",
       "    </tr>\n",
       "  </thead>\n",
       "  <tbody>\n",
       "    <tr>\n",
       "      <th>4</th>\n",
       "      <td>0.010038</td>\n",
       "      <td>-0.558223</td>\n",
       "      <td>0.480906</td>\n",
       "      <td>-0.574142</td>\n",
       "    </tr>\n",
       "    <tr>\n",
       "      <th>5</th>\n",
       "      <td>-0.252468</td>\n",
       "      <td>1.039847</td>\n",
       "      <td>-0.023480</td>\n",
       "      <td>0.089422</td>\n",
       "    </tr>\n",
       "    <tr>\n",
       "      <th>6</th>\n",
       "      <td>-0.594327</td>\n",
       "      <td>-0.105697</td>\n",
       "      <td>0.742796</td>\n",
       "      <td>-0.754982</td>\n",
       "    </tr>\n",
       "  </tbody>\n",
       "</table>\n",
       "</div>"
      ],
      "text/plain": [
       "          0         1         2         3\n",
       "4  0.010038 -0.558223  0.480906 -0.574142\n",
       "5 -0.252468  1.039847 -0.023480  0.089422\n",
       "6 -0.594327 -0.105697  0.742796 -0.754982"
      ]
     },
     "execution_count": 137,
     "metadata": {},
     "output_type": "execute_result"
    }
   ],
   "source": [
    "secondary_df=df[4:]"
   ]
  },
  {
   "cell_type": "code",
   "execution_count": 130,
   "id": "b460c52e",
   "metadata": {},
   "outputs": [
    {
     "name": "stdout",
     "output_type": "stream",
     "text": [
      "df = pd.DataFrame(np.random.randn(10, 4))\n",
      "          0         1         2         3\n",
      "0 -0.992258  1.011285  1.400440 -0.654992\n",
      "1 -0.255791 -0.714386 -0.500839  0.055645\n",
      "2 -0.488962 -0.379922  0.259735 -1.681349\n",
      "3 -0.916795 -0.119224 -0.446277 -2.143355\n",
      "4  0.010038 -0.558223  0.480906 -0.574142\n",
      "5 -0.252468  1.039847 -0.023480  0.089422\n",
      "6 -0.594327 -0.105697  0.742796 -0.754982\n",
      "\n",
      "pieces = [df[:2], df[2:4], df[4:]]\n"
     ]
    },
    {
     "data": {
      "text/plain": [
       "[          0         1         2         3\n",
       " 0 -0.992258  1.011285  1.400440 -0.654992\n",
       " 1 -0.255791 -0.714386 -0.500839  0.055645,\n",
       "           0         1         2         3\n",
       " 2 -0.488962 -0.379922  0.259735 -1.681349\n",
       " 3 -0.916795 -0.119224 -0.446277 -2.143355,\n",
       "           0         1         2         3\n",
       " 4  0.010038 -0.558223  0.480906 -0.574142\n",
       " 5 -0.252468  1.039847 -0.023480  0.089422\n",
       " 6 -0.594327 -0.105697  0.742796 -0.754982]"
      ]
     },
     "execution_count": 130,
     "metadata": {},
     "output_type": "execute_result"
    }
   ],
   "source": [
    "print('df = pd.DataFrame(np.random.randn(10, 4))')\n",
    "df = pd.DataFrame(np.random.randn(7, 4))\n",
    "print(df)\n",
    "print(\"\\npieces = [df[:2], df[2:4], df[4:]]\")\n",
    "pieces = [df[:2], df[2:4], df[4:]]\n",
    "pieces"
   ]
  },
  {
   "cell_type": "code",
   "execution_count": null,
   "id": "460542f5",
   "metadata": {
    "scrolled": true
   },
   "outputs": [],
   "source": [
    "print(\"\\npd.concat(pieces)\")\n",
    "pd.concat(pieces)"
   ]
  },
  {
   "cell_type": "markdown",
   "id": "4b82d2b0",
   "metadata": {},
   "source": [
    "### I/O operations\n",
    "- reading data directly from csv, text, Excel files, DFS\n",
    "- Pandas Data Frames are not peristent storage!\n",
    "- writing data directly to file storage."
   ]
  },
  {
   "cell_type": "code",
   "execution_count": 141,
   "id": "602685a6",
   "metadata": {},
   "outputs": [
    {
     "name": "stdout",
     "output_type": "stream",
     "text": [
      "students_df.to_csv(students_df.csv)\n",
      "\n",
      "Data frame is saved persistentally to the file storage...\n"
     ]
    }
   ],
   "source": [
    "print(\"students_df.to_csv(students_df.csv)\\n\\nData frame is saved persistentally to the file storage...\")\n",
    "students_df.to_csv(\"students_df.csv\",index=False,header=None)"
   ]
  },
  {
   "cell_type": "code",
   "execution_count": null,
   "id": "fda86727",
   "metadata": {
    "scrolled": false
   },
   "outputs": [],
   "source": [
    "Image(\"res/Q&A.png\")"
   ]
  },
  {
   "cell_type": "code",
   "execution_count": null,
   "id": "94dfe52e",
   "metadata": {},
   "outputs": [],
   "source": []
  }
 ],
 "metadata": {
  "kernelspec": {
   "display_name": "Python 3 (ipykernel)",
   "language": "python",
   "name": "python3"
  },
  "language_info": {
   "codemirror_mode": {
    "name": "ipython",
    "version": 3
   },
   "file_extension": ".py",
   "mimetype": "text/x-python",
   "name": "python",
   "nbconvert_exporter": "python",
   "pygments_lexer": "ipython3",
   "version": "3.9.7"
  }
 },
 "nbformat": 4,
 "nbformat_minor": 5
}
